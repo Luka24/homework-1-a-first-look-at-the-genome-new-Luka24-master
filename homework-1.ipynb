{
 "cells": [
  {
   "cell_type": "markdown",
   "metadata": {},
   "source": [
    "# Homework 1 - ORF finding: how many genes are in the SARS-Cov-2 genome?\n",
    "\n",
    "Severe acute respiratory syndrome coronavirus 2 (SARS-CoV-2) is a strain of coronavirus that causes COVID-19. Throughout these homework assignments, we will analyze this virus and try to understand its origins and inner workings. We will implement the necessary bioinformatics tools and apply them to further our understanding of this pesky little virus.\n",
    "\n",
    "First, we will analyze the main component of every organism - its genetic material. Our focus will be on the genes, parts of the genetic material that code for proteins. Proteins are the main macromolecular actors in every organism.\n",
    "\n",
    "**Why are we so interested in genes?**\n",
    "\n",
    "Genes dictate the behavior of an organism, such as replication, viral assembly, and even innate immune evasion. If we compare the genes from this new virus with genes from other known viruses, we can get a good idea of how this virus works and maybe even how to stop it. When these genes are translated into proteins, they start acting out their function. Some proteins can attach to human cells and allow viruses to enter them. If we can figure out which genes these are, they will make good candidates for drug targets.\n",
    "\n",
    "We can find potential genes in a genome by looking for common patterns shared across all genes. However, validating that these potential candidates are, in fact, real genes requires experimental confirmation.\n",
    "\n",
    "**The aim of this homework**\n",
    "\n",
    "In this homework, our goal is to find potential genes in the SARS-CoV-2 genome and take a first stab at figuring out what their corresponding proteins do. When looking for genes in an unknown genome, we consider all the Open Reading Frames (ORFs) as potential gene candidates. However, many of our ORFs will not be true genes, and since each ORF must be experimentally validated in the lab, we will try to reduce the number of ORFs only to include the most likely gene candidates. We heard in lectures that one approach for filtering ORFs is to perform a permutation test to determine a threshold indicating the minimum length of ORFs. This will reduce the number of false positives that we generate. So, our approach might be to first find the ORFs, remove ORFs that are likely too short, and then determine what each ORF might do.\n",
    "\n",
    "However, before we jump right into the SARS-CoV-2 genome, we first want to convince ourselves that this is, in fact, a reasonable approach that produces good results. Since we are going to pretend that SARS-CoV-2 is an unknown virus, we can't check our results to see if they are correct. So instead, we will validate our approach on one of the most well-understood organisms in existence: _E. Coli_. Here, we will be able to check how many of our ORFs are true genes and how well our threshold selection method actually works.\n",
    "\n",
    "Once we've convinced ourselves that this is, in fact, a good approach, we will start exploring the SARS-CoV-2 genome. Finally, once we have found and filtered our coronavirus ORFs, we will implement a simple classification technique to determine the function of their corresponding proteins. We will explore computational techniques for determining protein function in the next homework.\n"
   ]
  },
  {
   "cell_type": "code",
   "execution_count": 11,
   "metadata": {},
   "outputs": [
    {
     "name": "stdout",
     "output_type": "stream",
     "text": [
      "The autoreload extension is already loaded. To reload it, use:\n",
      "  %reload_ext autoreload\n"
     ]
    }
   ],
   "source": [
    "\n",
    "\n",
    "%load_ext autoreload\n",
    "\n",
    "from Bio import Entrez, SeqIO\n",
    "from Bio.Seq import Seq\n",
    "\n",
    "import matplotlib.pyplot as plt \n",
    "import matplotlib.colors as mcolors\n",
    "%matplotlib inline\n",
    "\n",
    "import pandas as pd\n",
    "import numpy as np\n",
    "import csv\n",
    "import random\n",
    "import pickle\n",
    "\n",
    "%autoreload\n",
    "from helper_functions import *\n",
    "\n"
   ]
  },
  {
   "cell_type": "markdown",
   "metadata": {},
   "source": [
    "Let's let the nice folks at NCBI know who we are."
   ]
  },
  {
   "cell_type": "code",
   "execution_count": 12,
   "metadata": {},
   "outputs": [],
   "source": [
    "\n",
    "Entrez.email = \"lp87284>@student.uni-lj.si\""
   ]
  },
  {
   "cell_type": "code",
   "execution_count": 13,
   "metadata": {},
   "outputs": [],
   "source": [
    "# In order to import from the `helper_functions` python file without hassle, we add the current\n",
    "# directory to the python path\n",
    "import sys; sys.path.append(\".\")"
   ]
  },
  {
   "cell_type": "markdown",
   "metadata": {},
   "source": [
    "## _Escherichia coli_"
   ]
  },
  {
   "cell_type": "markdown",
   "metadata": {},
   "source": [
    "\n",
    "[_Escherichia coli_](https://en.wikipedia.org/wiki/Escherichia_coli) (_E. Coli_) is a bacteria commonly found in the human intestine. Most strains are harmless to humans, at worse, causing food poisoning and diarrhea. They can survive outside a host for only a short period of time, making it a potential indicator of fecal contamination.\n",
    "\n",
    "Over the years, _E. Coli_ has been intensely studied and is probably one of the most well-understood organisms in existence. We've learned how to grow them in an optimal environment where they can reproduce up to once every 20 minutes. Due to their rapid growth and easy manipulation, biologists often use them to produce recombinant proteins.\n",
    "\n",
    "![](https://upload.wikimedia.org/wikipedia/commons/4/40/E.coli-colony-growth.gif)\n",
    "\n",
    "Image source: https://doi.org/10.1371/journal.pbio.0030045\n",
    "\n",
    "Recombinant proteins are proteins that wouldn't naturally appear in that organism. For instance, we can insert genes that code for fluorescence into plants, making them glow in the dark. Or, perhaps more usefully, we can take the human gene that codes for insulin and convince _E. Coli_ to produce insulin instead. Insulin that we can then use to treat diabetic patients. Or proteins used in cancer treatment. Or, more recently, we can insert fragments of the SARS-CoV-2 virus into _E. Coli_ and use that to produce COVID-19 vaccines.\n",
    "\n",
    "![](https://static.dezeen.com/uploads/2014/01/American-firm-genetically-engineers-worlds-first-glow-in-the-dark-plant-_dezeen_4.jpg)\n",
    "\n",
    "Image source: [Discover magazine](https://www.discovermagazine.com/planet-earth/for-sale-plants-that-glow-in-the-dark)\n",
    "\n",
    "_E. coli_ is a very well-studied organism, therefore, well-annotated. This means we can quickly check our work for any analysis we might perform because we have the ground truth, which biologists have spent decades meticulously gathering for us. We will examine the DNA sequence of _E. coli_ and implement an algorithm for finding potential gene candidates. Because the ground truth is readily available, we can check how many of our ORF candidates are actual genes and how many candidates are false positives."
   ]
  },
  {
   "cell_type": "markdown",
   "metadata": {},
   "source": [
    "Every organism in NCBI has an associated unique identifier, which we can use to download various genomes and other kinds of data. The NCBI ID for _E. coli_ is _NC_000913_."
   ]
  },
  {
   "cell_type": "code",
   "execution_count": 14,
   "metadata": {},
   "outputs": [],
   "source": [
    "organism_id = \"NC_000913\"  # E. coli"
   ]
  },
  {
   "cell_type": "markdown",
   "metadata": {},
   "source": [
    "Fetch the _E. coli_ genome from NCBI. To check you have the right one, the genome should be 4,641,652 base pairs long. It might take up-to a minute to download.\n",
    "\n",
    "_Hint_: Use the `Entrez.efetch` (http://biopython.org/DIST/docs/tutorial/Tutorial.html#sec149) and `SeqIO.read` (http://biopython.org/DIST/docs/tutorial/Tutorial.html#sec37) functions from biopython.\n",
    "Use `rettype=\"gbwithparts\"` to fetch all required features."
   ]
  },
  {
   "cell_type": "code",
   "execution_count": 15,
   "metadata": {},
   "outputs": [],
   "source": [
    "from Bio import SeqIO\n",
    "\n",
    "# Fetch the E. coli genome from NCBI using Entrez.efetch\n",
    "with Entrez.efetch(db=\"nucleotide\", id=\"U00096.3\", rettype=\"gbwithparts\", retmode=\"text\") as handle:\n",
    "    # Parse the GenBank file using SeqIO\n",
    "    ecoli_genome = SeqIO.read(handle, \"genbank\")\n"
   ]
  },
  {
   "cell_type": "markdown",
   "metadata": {},
   "source": [
    "## Problem 1: Finding gene candidates\n",
    "\n",
    "Before we get started, we need to implement an algorithm for finding all open reading frames (ORFs) in a given genome. We define an ORF as the longest contiguous sequence of triplets (codons) between a start and a stop codon. For instance, TTATGAAAATGAAATGATT contains one ORF -- ATGAAAATGAAATGA spanning from locations 2 to 17.\n",
    "\n",
    "**TASK:**\n",
    "Implement the `find_orfs` and `find_all_orfs` functions in `helper_functions.py`. Function `find_orfs` should find ORFs for a single offset e.g. [ATGTAATGTTGATTA]TG, ignoring the final TG. `find_all_orfs` should use `find_orfs` to find _all_ the ORFs in a sequence, i.e. [ATGTAATGTTGATTA]TG, A[TGTAATGTTGATTAT]G, AT[GTAATGTTGATTATG], as well as the ORFs on the reverse complements. See the docstrings for expected return types.\n",
    "\n",
    "Returned ORFs should be of the form (strand, start_loc, stop_loc). Here, start_loc and stop_loc correspond to the starting and ending locations of the ORFs and not necessarily to the START and STOP codons. For instance, if the ORF is on the negative strand, the start_loc location should refer to the position of the STOP codon. The start_loc should always be smaller than stop_loc for ORFs at either strand.\n",
    "The strand should be indicated by either 1 for the reference strand and -1 for its reverse complement. We consider stop codons as part of an ORFs. The positions of ORFs on the reverse complement strand should specified according to the reference strand.\n",
    "\n",
    "**[10 points]**\n",
    "\n",
    "_Hint_: You can check your implementation on the _E. Coli_ genome, where the number of ORFs on the positive and negative strands should be roughly equal."
   ]
  },
  {
   "cell_type": "code",
   "execution_count": 16,
   "metadata": {},
   "outputs": [
    {
     "ename": "KeyboardInterrupt",
     "evalue": "",
     "output_type": "error",
     "traceback": [
      "\u001b[1;31m---------------------------------------------------------------------------\u001b[0m",
      "\u001b[1;31mKeyboardInterrupt\u001b[0m                         Traceback (most recent call last)",
      "Cell \u001b[1;32mIn[16], line 21\u001b[0m\n\u001b[0;32m     18\u001b[0m sequence \u001b[38;5;241m=\u001b[39m ecoli_genome\u001b[38;5;241m.\u001b[39mseq\n\u001b[0;32m     20\u001b[0m \u001b[38;5;66;03m# Find all ORFs in the genome\u001b[39;00m\n\u001b[1;32m---> 21\u001b[0m orfs \u001b[38;5;241m=\u001b[39m \u001b[43mfind_all_orfs\u001b[49m\u001b[43m(\u001b[49m\u001b[43msequence\u001b[49m\u001b[43m,\u001b[49m\u001b[43m \u001b[49m\u001b[43mstart_codons\u001b[49m\u001b[43m,\u001b[49m\u001b[43m \u001b[49m\u001b[43mstop_codons\u001b[49m\u001b[43m)\u001b[49m\n\u001b[0;32m     23\u001b[0m \u001b[38;5;66;03m# Count ORFs on each strand\u001b[39;00m\n\u001b[0;32m     24\u001b[0m positive_count, negative_count \u001b[38;5;241m=\u001b[39m count_orfs_by_strand(orfs)\n",
      "File \u001b[1;32mc:\\Users\\lukap\\Downloads\\homework-1-a-first-look-at-the-genome-new-Luka24-master\\homework-1-a-first-look-at-the-genome-new-Luka24-master\\helper_functions.py:181\u001b[0m, in \u001b[0;36mfind_all_orfs\u001b[1;34m(sequence, start_codons, stop_codons)\u001b[0m\n\u001b[0;32m    179\u001b[0m orfs \u001b[38;5;241m=\u001b[39m []\n\u001b[0;32m    180\u001b[0m \u001b[38;5;28;01mfor\u001b[39;00m offset \u001b[38;5;129;01min\u001b[39;00m \u001b[38;5;28mrange\u001b[39m(\u001b[38;5;241m3\u001b[39m):\n\u001b[1;32m--> 181\u001b[0m     orfs\u001b[38;5;241m.\u001b[39mextend([(\u001b[38;5;241m1\u001b[39m,elem[\u001b[38;5;241m0\u001b[39m]\u001b[38;5;241m+\u001b[39moffset,elem[\u001b[38;5;241m1\u001b[39m]\u001b[38;5;241m+\u001b[39moffset) \u001b[38;5;28;01mfor\u001b[39;00m elem \u001b[38;5;129;01min\u001b[39;00m \u001b[43mfind_orfs\u001b[49m\u001b[43m(\u001b[49m\u001b[43msequence\u001b[49m\u001b[43m[\u001b[49m\u001b[43moffset\u001b[49m\u001b[43m:\u001b[49m\u001b[43m]\u001b[49m\u001b[43m,\u001b[49m\u001b[43m \u001b[49m\u001b[43mstart_codons\u001b[49m\u001b[43m,\u001b[49m\u001b[43m \u001b[49m\u001b[43mstop_codons\u001b[49m\u001b[43m)\u001b[49m])\n\u001b[0;32m    182\u001b[0m seq_comp \u001b[38;5;241m=\u001b[39m sequence[::\u001b[38;5;241m-\u001b[39m\u001b[38;5;241m1\u001b[39m]\u001b[38;5;241m.\u001b[39mreplace(\u001b[38;5;124m\"\u001b[39m\u001b[38;5;124mA\u001b[39m\u001b[38;5;124m\"\u001b[39m, \u001b[38;5;124m\"\u001b[39m\u001b[38;5;124mN\u001b[39m\u001b[38;5;124m\"\u001b[39m)\u001b[38;5;241m.\u001b[39mreplace(\u001b[38;5;124m\"\u001b[39m\u001b[38;5;124mT\u001b[39m\u001b[38;5;124m\"\u001b[39m, \u001b[38;5;124m\"\u001b[39m\u001b[38;5;124mA\u001b[39m\u001b[38;5;124m\"\u001b[39m)\u001b[38;5;241m.\u001b[39mreplace(\u001b[38;5;124m\"\u001b[39m\u001b[38;5;124mN\u001b[39m\u001b[38;5;124m\"\u001b[39m, \u001b[38;5;124m\"\u001b[39m\u001b[38;5;124mT\u001b[39m\u001b[38;5;124m\"\u001b[39m) \\\n\u001b[0;32m    183\u001b[0m     \u001b[38;5;241m.\u001b[39mreplace(\u001b[38;5;124m\"\u001b[39m\u001b[38;5;124mC\u001b[39m\u001b[38;5;124m\"\u001b[39m, \u001b[38;5;124m\"\u001b[39m\u001b[38;5;124mN\u001b[39m\u001b[38;5;124m\"\u001b[39m)\u001b[38;5;241m.\u001b[39mreplace(\u001b[38;5;124m\"\u001b[39m\u001b[38;5;124mG\u001b[39m\u001b[38;5;124m\"\u001b[39m, \u001b[38;5;124m\"\u001b[39m\u001b[38;5;124mC\u001b[39m\u001b[38;5;124m\"\u001b[39m)\u001b[38;5;241m.\u001b[39mreplace(\u001b[38;5;124m\"\u001b[39m\u001b[38;5;124mN\u001b[39m\u001b[38;5;124m\"\u001b[39m, \u001b[38;5;124m\"\u001b[39m\u001b[38;5;124mG\u001b[39m\u001b[38;5;124m\"\u001b[39m)\n\u001b[0;32m    184\u001b[0m seq_len \u001b[38;5;241m=\u001b[39m \u001b[38;5;28mlen\u001b[39m(sequence)\n",
      "File \u001b[1;32mc:\\Users\\lukap\\Downloads\\homework-1-a-first-look-at-the-genome-new-Luka24-master\\homework-1-a-first-look-at-the-genome-new-Luka24-master\\helper_functions.py:149\u001b[0m, in \u001b[0;36mfind_orfs\u001b[1;34m(sequence, start_codons, stop_codons)\u001b[0m\n\u001b[0;32m    147\u001b[0m orfs \u001b[38;5;241m=\u001b[39m []\n\u001b[0;32m    148\u001b[0m \u001b[38;5;28;01mfor\u001b[39;00m i \u001b[38;5;129;01min\u001b[39;00m \u001b[38;5;28mrange\u001b[39m(\u001b[38;5;241m0\u001b[39m, \u001b[38;5;28mlen\u001b[39m(sequence) \u001b[38;5;241m-\u001b[39m \u001b[38;5;241m2\u001b[39m, \u001b[38;5;241m3\u001b[39m):\n\u001b[1;32m--> 149\u001b[0m     \u001b[38;5;28;01mif\u001b[39;00m \u001b[38;5;129;01mnot\u001b[39;00m in_orf \u001b[38;5;129;01mand\u001b[39;00m \u001b[43msequence\u001b[49m\u001b[43m[\u001b[49m\u001b[43mi\u001b[49m\u001b[43m:\u001b[49m\u001b[43mi\u001b[49m\u001b[43m \u001b[49m\u001b[38;5;241;43m+\u001b[39;49m\u001b[43m \u001b[49m\u001b[38;5;241;43m3\u001b[39;49m\u001b[43m]\u001b[49m \u001b[38;5;129;01min\u001b[39;00m start_codons:\n\u001b[0;32m    150\u001b[0m         start \u001b[38;5;241m=\u001b[39m i\n\u001b[0;32m    151\u001b[0m         in_orf \u001b[38;5;241m=\u001b[39m \u001b[38;5;28;01mTrue\u001b[39;00m\n",
      "File \u001b[1;32mc:\\Users\\lukap\\AppData\\Local\\Programs\\Python\\Python311\\Lib\\site-packages\\Bio\\Seq.py:527\u001b[0m, in \u001b[0;36m_SeqAbstractBaseClass.__getitem__\u001b[1;34m(self, index)\u001b[0m\n\u001b[0;32m    524\u001b[0m     \u001b[38;5;28;01mreturn\u001b[39;00m \u001b[38;5;28mchr\u001b[39m(\u001b[38;5;28mself\u001b[39m\u001b[38;5;241m.\u001b[39m_data[index])\n\u001b[0;32m    525\u001b[0m \u001b[38;5;28;01melse\u001b[39;00m:\n\u001b[0;32m    526\u001b[0m     \u001b[38;5;66;03m# Return the (sub)sequence as another Seq/MutableSeq object\u001b[39;00m\n\u001b[1;32m--> 527\u001b[0m     \u001b[38;5;28;01mreturn\u001b[39;00m \u001b[38;5;28;43mself\u001b[39;49m\u001b[38;5;241;43m.\u001b[39;49m\u001b[38;5;18;43m__class__\u001b[39;49m\u001b[43m(\u001b[49m\u001b[38;5;28;43mself\u001b[39;49m\u001b[38;5;241;43m.\u001b[39;49m\u001b[43m_data\u001b[49m\u001b[43m[\u001b[49m\u001b[43mindex\u001b[49m\u001b[43m]\u001b[49m\u001b[43m)\u001b[49m\n",
      "\u001b[1;31mKeyboardInterrupt\u001b[0m: "
     ]
    }
   ],
   "source": [
    "from helper_functions import find_all_orfs\n",
    "from Bio import SeqIO, Entrez\n",
    "from collections import Counter\n",
    "\n",
    "\n",
    "\n",
    "# Start and stop codons\n",
    "start_codons = [\"ATG\"]\n",
    "stop_codons = [\"TGA\", \"TAA\", \"TAG\"]\n",
    "def count_orfs_by_strand(orfs):\n",
    "    \"\"\"Count ORFs on positive and negative strands.\"\"\"\n",
    "    positive_count = sum(1 for orf in orfs if orf[0] == 1)\n",
    "    negative_count = sum(1 for orf in orfs if orf[0] == -1)\n",
    "    return positive_count, negative_count\n",
    "\n",
    "# Fetch the E. coli genome\n",
    "\n",
    "sequence = ecoli_genome.seq\n",
    "\n",
    "# Find all ORFs in the genome\n",
    "orfs = find_all_orfs(sequence, start_codons, stop_codons)\n",
    "\n",
    "# Count ORFs on each strand\n",
    "positive_count, negative_count = count_orfs_by_strand(orfs)\n",
    "\n",
    "print(\"ORFs on positive strand:\", positive_count)\n",
    "print(\"ORFs on negative strand:\", negative_count)\n",
    "\n",
    "\n",
    "#OK\n",
    "\n"
   ]
  },
  {
   "cell_type": "markdown",
   "metadata": {},
   "source": [
    "## Problem 2: Finding true genes\n",
    "\n",
    "Having implemented our ORF finder, we can now apply it to the _E. Coli_ genome to find the ORFs, i.e., gene candidates. You will see that there are quite a large number of these. Some of them might be actual genes, and some may not. In practice, biologists will often look through each gene candidate manually to determine if it is a gene or not. We want to help them by reducing the number of ORFs they'll have to look through. One way to reduce this number is to set a threshold for our ORF lengths. As you saw in lectures, we can determine a sensible threshold using a permutation test.\n",
    "\n",
    "**TASK:**\n",
    "\n",
    "**a)** Find all the ORFs in the _E. Coli_ genome. Determine a reasonable threshold for filtering short ORFs using a permutation test with 100 repetitions such that we keep only sequences with $p < 0.01$. Plot a histogram of the distribution of ORF lengths in these random sequences using the log scale for the y-axis. The x-axis should not be shown in log scale. Overlay the histogram with the ORF lengths you found using your ORF finder. Clearly indicate the permutation test threshold on your plot. Save your threshold into the `bacteria_threshold` variable and save your plot into `problem2-permutation.png`. All ORF lengths and thresholds should be reported **in codons**.\n",
    "\n",
    "**[5 points]**\n",
    "\n",
    "Note that the _E. coli_ permutation test might run up to an hour on some computers. In bioinformatics, it is very common to have to wait a long time for results to compute since we generally deal with large amounts of data. Efficient implementations and caching can help a great deal.\n",
    "\n",
    "_Hint_: For plotting, you can use the [`hist`](https://matplotlib.org/stable/api/_as_gen/matplotlib.pyplot.hist.html) function from [matplotlib](https://matplotlib.org/stable/index.html)."
   ]
  },
  {
   "cell_type": "code",
   "execution_count": 33,
   "metadata": {},
   "outputs": [
    {
     "ename": "KeyboardInterrupt",
     "evalue": "",
     "output_type": "error",
     "traceback": [
      "\u001b[1;31m---------------------------------------------------------------------------\u001b[0m",
      "\u001b[1;31mKeyboardInterrupt\u001b[0m                         Traceback (most recent call last)",
      "Cell \u001b[1;32mIn[33], line 33\u001b[0m\n\u001b[0;32m     30\u001b[0m shuffled_sequence \u001b[38;5;241m=\u001b[39m Seq(shuffled_sequence)\n\u001b[0;32m     32\u001b[0m \u001b[38;5;66;03m# Find ORFs in the shuffled sequence and record lengths in codons\u001b[39;00m\n\u001b[1;32m---> 33\u001b[0m shuffled_orfs \u001b[38;5;241m=\u001b[39m \u001b[43mfind_all_orfs\u001b[49m\u001b[43m(\u001b[49m\u001b[43mshuffled_sequence\u001b[49m\u001b[43m,\u001b[49m\u001b[43m \u001b[49m\u001b[43mstart_codons\u001b[49m\u001b[43m,\u001b[49m\u001b[43m \u001b[49m\u001b[43mstop_codons\u001b[49m\u001b[43m)\u001b[49m\n\u001b[0;32m     34\u001b[0m shuffled_orf_lengths \u001b[38;5;241m=\u001b[39m [(orf[\u001b[38;5;241m2\u001b[39m] \u001b[38;5;241m-\u001b[39m orf[\u001b[38;5;241m1\u001b[39m]) \u001b[38;5;241m/\u001b[39m\u001b[38;5;241m/\u001b[39m \u001b[38;5;241m3\u001b[39m \u001b[38;5;28;01mfor\u001b[39;00m orf \u001b[38;5;129;01min\u001b[39;00m shuffled_orfs]\n\u001b[0;32m     35\u001b[0m permuted_orf_lengths\u001b[38;5;241m.\u001b[39mextend(shuffled_orf_lengths)\n",
      "File \u001b[1;32mc:\\Users\\lukap\\Downloads\\homework-1-a-first-look-at-the-genome-new-Luka24-master\\homework-1-a-first-look-at-the-genome-new-Luka24-master\\helper_functions.py:196\u001b[0m, in \u001b[0;36mfind_all_orfs\u001b[1;34m(sequence, start_codons, stop_codons)\u001b[0m\n\u001b[0;32m    194\u001b[0m \u001b[38;5;28;01mdef\u001b[39;00m \u001b[38;5;21mtranslate_to_protein\u001b[39m(seq):\n\u001b[0;32m    195\u001b[0m \u001b[38;5;250m    \u001b[39m\u001b[38;5;124;03m\"\"\"Translate a nucleotide sequence into a protein sequence.\u001b[39;00m\n\u001b[1;32m--> 196\u001b[0m \n\u001b[0;32m    197\u001b[0m \u001b[38;5;124;03m    Parameters\u001b[39;00m\n\u001b[0;32m    198\u001b[0m \u001b[38;5;124;03m    ----------\u001b[39;00m\n\u001b[0;32m    199\u001b[0m \u001b[38;5;124;03m    seq: str\u001b[39;00m\n\u001b[0;32m    200\u001b[0m \n\u001b[0;32m    201\u001b[0m \u001b[38;5;124;03m    Returns\u001b[39;00m\n\u001b[0;32m    202\u001b[0m \u001b[38;5;124;03m    -------\u001b[39;00m\n\u001b[0;32m    203\u001b[0m \u001b[38;5;124;03m    str\u001b[39;00m\n\u001b[0;32m    204\u001b[0m \u001b[38;5;124;03m        The translated protein sequence.\u001b[39;00m\n\u001b[0;32m    205\u001b[0m \n\u001b[0;32m    206\u001b[0m \u001b[38;5;124;03m    \"\"\"\u001b[39;00m\n\u001b[0;32m    207\u001b[0m     translations \u001b[38;5;241m=\u001b[39m {\n\u001b[0;32m    208\u001b[0m         \u001b[38;5;124m\"\u001b[39m\u001b[38;5;124mA\u001b[39m\u001b[38;5;124m\"\u001b[39m: [\u001b[38;5;124m\"\u001b[39m\u001b[38;5;124mGCT\u001b[39m\u001b[38;5;124m\"\u001b[39m, \u001b[38;5;124m\"\u001b[39m\u001b[38;5;124mGCC\u001b[39m\u001b[38;5;124m\"\u001b[39m, \u001b[38;5;124m\"\u001b[39m\u001b[38;5;124mGCA\u001b[39m\u001b[38;5;124m\"\u001b[39m, \u001b[38;5;124m\"\u001b[39m\u001b[38;5;124mGCG\u001b[39m\u001b[38;5;124m\"\u001b[39m],\n\u001b[0;32m    209\u001b[0m         \u001b[38;5;124m\"\u001b[39m\u001b[38;5;124mC\u001b[39m\u001b[38;5;124m\"\u001b[39m: [\u001b[38;5;124m\"\u001b[39m\u001b[38;5;124mTGT\u001b[39m\u001b[38;5;124m\"\u001b[39m, \u001b[38;5;124m\"\u001b[39m\u001b[38;5;124mTGC\u001b[39m\u001b[38;5;124m\"\u001b[39m],\n\u001b[1;32m   (...)\u001b[0m\n\u001b[0;32m    227\u001b[0m         \u001b[38;5;124m\"\u001b[39m\u001b[38;5;124mY\u001b[39m\u001b[38;5;124m\"\u001b[39m: [\u001b[38;5;124m\"\u001b[39m\u001b[38;5;124mTAC\u001b[39m\u001b[38;5;124m\"\u001b[39m, \u001b[38;5;124m\"\u001b[39m\u001b[38;5;124mTAT\u001b[39m\u001b[38;5;124m\"\u001b[39m]\n\u001b[0;32m    228\u001b[0m     }\n\u001b[0;32m    230\u001b[0m     \u001b[38;5;28;01mdef\u001b[39;00m \u001b[38;5;21mget_key\u001b[39m(element_to_find):\n",
      "File \u001b[1;32mc:\\Users\\lukap\\Downloads\\homework-1-a-first-look-at-the-genome-new-Luka24-master\\homework-1-a-first-look-at-the-genome-new-Luka24-master\\helper_functions.py:149\u001b[0m, in \u001b[0;36mfind_orfs\u001b[1;34m(sequence, start_codons, stop_codons)\u001b[0m\n\u001b[0;32m    146\u001b[0m start_loc \u001b[38;5;241m=\u001b[39m \u001b[38;5;28;01mNone\u001b[39;00m\n\u001b[0;32m    148\u001b[0m \u001b[38;5;66;03m# Iterate through codons in the sequence using the `codons` function\u001b[39;00m\n\u001b[1;32m--> 149\u001b[0m \u001b[43m\u001b[49m\u001b[38;5;28;43;01mfor\u001b[39;49;00m\u001b[43m \u001b[49m\u001b[43mi\u001b[49m\u001b[43m,\u001b[49m\u001b[43m \u001b[49m\u001b[43mcodon\u001b[49m\u001b[43m \u001b[49m\u001b[38;5;129;43;01min\u001b[39;49;00m\u001b[43m \u001b[49m\u001b[38;5;28;43menumerate\u001b[39;49m\u001b[43m(\u001b[49m\u001b[43mcodons\u001b[49m\u001b[43m(\u001b[49m\u001b[43msequence\u001b[49m\u001b[43m)\u001b[49m\u001b[43m)\u001b[49m\u001b[43m:\u001b[49m\n\u001b[0;32m    150\u001b[0m \u001b[43m    \u001b[49m\u001b[43mpos\u001b[49m\u001b[43m \u001b[49m\u001b[38;5;241;43m=\u001b[39;49m\u001b[43m \u001b[49m\u001b[43mi\u001b[49m\u001b[43m \u001b[49m\u001b[38;5;241;43m*\u001b[39;49m\u001b[43m \u001b[49m\u001b[38;5;241;43m3\u001b[39;49m\u001b[43m  \u001b[49m\u001b[38;5;66;43;03m# Calculate the starting position of this codon in the sequence\u001b[39;49;00m\n\u001b[0;32m    152\u001b[0m \u001b[43m    \u001b[49m\u001b[38;5;28;43;01mif\u001b[39;49;00m\u001b[43m \u001b[49m\u001b[43mcodon\u001b[49m\u001b[43m \u001b[49m\u001b[38;5;129;43;01min\u001b[39;49;00m\u001b[43m \u001b[49m\u001b[43mstart_codons\u001b[49m\u001b[43m \u001b[49m\u001b[38;5;129;43;01mand\u001b[39;49;00m\u001b[43m \u001b[49m\u001b[38;5;129;43;01mnot\u001b[39;49;00m\u001b[43m \u001b[49m\u001b[43min_orf\u001b[49m\u001b[43m:\u001b[49m\n\u001b[0;32m    153\u001b[0m \u001b[43m        \u001b[49m\u001b[38;5;66;43;03m# Start of a new ORF\u001b[39;49;00m\n",
      "File \u001b[1;32mc:\\Users\\lukap\\Downloads\\homework-1-a-first-look-at-the-genome-new-Luka24-master\\homework-1-a-first-look-at-the-genome-new-Luka24-master\\helper_functions.py:10\u001b[0m, in \u001b[0;36mcodons\u001b[1;34m(seq)\u001b[0m\n\u001b[0;32m      8\u001b[0m \u001b[38;5;250m\u001b[39m\u001b[38;5;124;03m\"\"\"Walk along the string, three nucleotides at a time. Cut off excess.\"\"\"\u001b[39;00m\n\u001b[0;32m      9\u001b[0m \u001b[38;5;28;01mfor\u001b[39;00m i \u001b[38;5;129;01min\u001b[39;00m \u001b[38;5;28mrange\u001b[39m(\u001b[38;5;241m0\u001b[39m, \u001b[38;5;28mlen\u001b[39m(seq) \u001b[38;5;241m-\u001b[39m \u001b[38;5;241m2\u001b[39m, \u001b[38;5;241m3\u001b[39m):\n\u001b[1;32m---> 10\u001b[0m     \u001b[38;5;28;01myield\u001b[39;00m \u001b[43mseq\u001b[49m\u001b[43m[\u001b[49m\u001b[43mi\u001b[49m\u001b[43m:\u001b[49m\u001b[43mi\u001b[49m\u001b[43m \u001b[49m\u001b[38;5;241;43m+\u001b[39;49m\u001b[43m \u001b[49m\u001b[38;5;241;43m3\u001b[39;49m\u001b[43m]\u001b[49m\n",
      "File \u001b[1;32mc:\\Users\\lukap\\AppData\\Local\\Programs\\Python\\Python311\\Lib\\site-packages\\Bio\\Seq.py:522\u001b[0m, in \u001b[0;36m_SeqAbstractBaseClass.__getitem__\u001b[1;34m(self, index)\u001b[0m\n\u001b[0;32m    504\u001b[0m \u001b[38;5;28;01mdef\u001b[39;00m \u001b[38;5;21m__getitem__\u001b[39m(\u001b[38;5;28mself\u001b[39m, index):\n\u001b[0;32m    505\u001b[0m \u001b[38;5;250m    \u001b[39m\u001b[38;5;124;03m\"\"\"Return a subsequence as a single letter or as a sequence object.\u001b[39;00m\n\u001b[0;32m    506\u001b[0m \n\u001b[0;32m    507\u001b[0m \u001b[38;5;124;03m    If the index is an integer, a single letter is returned as a Python\u001b[39;00m\n\u001b[1;32m   (...)\u001b[0m\n\u001b[0;32m    520\u001b[0m \u001b[38;5;124;03m    MutableSeq('ACG')\u001b[39;00m\n\u001b[0;32m    521\u001b[0m \u001b[38;5;124;03m    \"\"\"\u001b[39;00m\n\u001b[1;32m--> 522\u001b[0m     \u001b[38;5;28;01mif\u001b[39;00m \u001b[38;5;28misinstance\u001b[39m(index, numbers\u001b[38;5;241m.\u001b[39mIntegral):\n\u001b[0;32m    523\u001b[0m         \u001b[38;5;66;03m# Return a single letter as a string\u001b[39;00m\n\u001b[0;32m    524\u001b[0m         \u001b[38;5;28;01mreturn\u001b[39;00m \u001b[38;5;28mchr\u001b[39m(\u001b[38;5;28mself\u001b[39m\u001b[38;5;241m.\u001b[39m_data[index])\n\u001b[0;32m    525\u001b[0m     \u001b[38;5;28;01melse\u001b[39;00m:\n\u001b[0;32m    526\u001b[0m         \u001b[38;5;66;03m# Return the (sub)sequence as another Seq/MutableSeq object\u001b[39;00m\n",
      "File \u001b[1;32m<frozen abc>:117\u001b[0m, in \u001b[0;36m__instancecheck__\u001b[1;34m(cls, instance)\u001b[0m\n",
      "\u001b[1;31mKeyboardInterrupt\u001b[0m: "
     ]
    }
   ],
   "source": [
    "from Bio.Seq import Seq\n",
    "import matplotlib.pyplot as plt\n",
    "import numpy as np\n",
    "\n",
    "# Fetch the genome\n",
    "\n",
    "sequence = ecoli_genome.seq\n",
    "\n",
    "# Start and stop codons\n",
    "start_codons = [\"ATG\"]\n",
    "stop_codons = [\"TGA\", \"TAA\", \"TAG\"]\n",
    "\n",
    "# Find all ORFs\n",
    "orfs = find_all_orfs(sequence, start_codons, stop_codons)\n",
    "orf_lengths = [(orf[2] - orf[1]) // 3 for orf in orfs]  # Convert to codons\n",
    "\n",
    "\n",
    "import random\n",
    "\n",
    "# Number of permutations and the threshold significance level\n",
    "num_permutations = 100\n",
    "p_value_threshold = 0.01\n",
    "\n",
    "# Container for ORF lengths in shuffled sequences\n",
    "permuted_orf_lengths = []\n",
    "\n",
    "for _ in range(num_permutations):\n",
    "    # Shuffle the sequence\n",
    "    shuffled_sequence = ''.join(random.sample(str(sequence), len(sequence)))\n",
    "    shuffled_sequence = Seq(shuffled_sequence)\n",
    "    \n",
    "    # Find ORFs in the shuffled sequence and record lengths in codons\n",
    "    shuffled_orfs = find_all_orfs(shuffled_sequence, start_codons, stop_codons)\n",
    "    shuffled_orf_lengths = [(orf[2] - orf[1]) // 3 for orf in shuffled_orfs]\n",
    "    permuted_orf_lengths.extend(shuffled_orf_lengths)\n",
    "\n",
    "# Determine threshold: the ORF length below which p < 0.01\n",
    "threshold_length = np.percentile(permuted_orf_lengths, (1 - p_value_threshold) * 100)\n",
    "bacteria_threshold = int(threshold_length)\n",
    "\n",
    "\n",
    "# Plot histogram with log-scaled y-axis\n",
    "plt.figure(figsize=(10, 6))\n",
    "\n",
    "# Plot histogram of real ORF lengths\n",
    "plt.hist(orf_lengths, bins=50, alpha=0.5, label=\"E. coli ORF lengths\", color=\"blue\")\n",
    "\n",
    "# Plot histogram of permuted ORF lengths\n",
    "plt.hist(permuted_orf_lengths, bins=50, alpha=0.5, label=\"Permuted ORF lengths\", color=\"red\")\n",
    "\n",
    "# Add threshold line\n",
    "plt.axvline(bacteria_threshold, color=\"black\", linestyle=\"--\", linewidth=1, label=f\"Threshold = {bacteria_threshold} codons\")\n",
    "\n",
    "# Log scale for y-axis\n",
    "plt.yscale(\"log\")\n",
    "\n",
    "# Labels and legend\n",
    "plt.xlabel(\"ORF Length (in codons)\")\n",
    "plt.ylabel(\"Frequency (log scale)\")\n",
    "plt.legend()\n",
    "plt.title(\"ORF Length Distribution in E. coli Genome and Random Permutations\")\n",
    "\n",
    "# Save the plot\n",
    "plt.savefig(\"problem2-permutation.png\")\n",
    "plt.show()\n"
   ]
  },
  {
   "cell_type": "code",
   "execution_count": 38,
   "metadata": {},
   "outputs": [
    {
     "name": "stdout",
     "output_type": "stream",
     "text": [
      "100\n"
     ]
    }
   ],
   "source": [
    "print(bacteria_threshold)"
   ]
  },
  {
   "cell_type": "code",
   "execution_count": 30,
   "metadata": {},
   "outputs": [],
   "source": [
    "bacteria_threshold = 100"
   ]
  },
  {
   "cell_type": "markdown",
   "metadata": {},
   "source": [
    "Is this a good threshold? As we said in the beginning, _E. coli_ is a well-studied organism, so we can easily evaluate our filtering proceedure with the ground truth. We can use many metrics to evaluate our accuracy, but here, we will focus on three: precision, recall, and the F1 score. Please consult Wikipedia if you aren't familiar with these metrics. To calculate each metric, we first have to apply our chosen threshold to our found ORFs, removing ORFs that are too short. Using the ground truth ORFs, we can then identify true positives, false positives, true negatives, and false negatives.\n",
    "\n",
    "**TASK:**\n",
    "\n",
    "**b)** Could a different threshold give better precision/recall/F1 scores? Generate a list of possible thresholds and compute precision/recall/F1 scores for each threshold. Plot all three metrics into a single figure. Based on these metrics, can you determine a better threshold? Clearly indicate your suggested threshold as well as the threshold suggested by the permutation test in the plot. Save the resulting figure to `problem2-proc.png`.\n",
    "\n",
    "Then, based on your plot, answer the following questions:\n",
    "- Is the threshold determined by the permutation test reasonable? Explain your answer.\n",
    "- What would we be the advange of using a higher and a lower threshold value? Explain your reasoning.\n",
    "\n",
    "Store your answers in the `permutation_threshold_reasonable` and `different_thresholds` variables, respectively.\n",
    "\n",
    "**[5 points]**"
   ]
  },
  {
   "cell_type": "markdown",
   "metadata": {},
   "source": [
    "The true ORFs can be extracted from the Biopython record object using the provided `extract_gt_orfs` function in `helper_functions.py`."
   ]
  },
  {
   "cell_type": "code",
   "execution_count": 34,
   "metadata": {},
   "outputs": [
    {
     "data": {
      "image/png": "[encoded data removed]",
      "text/plain": [
       "<Figure size 1000x600 with 1 Axes>"
      ]
     },
     "metadata": {},
     "output_type": "display_data"
    },
    {
     "name": "stdout",
     "output_type": "stream",
     "text": [
      "The permutation test threshold is reasonable if it provides a balance between precision and recall. If the F1 score peaks near this threshold, it can be considered optimal. Otherwise, adjusting based on observed precision/recall trends might improve accuracy.\n",
      "Using a higher threshold would improve precision by filtering out shorter, likely false ORFs, but might reduce recall. Conversely, a lower threshold may capture more true positives, improving recall but potentially lowering precision by including shorter, spurious ORFs.\n"
     ]
    }
   ],
   "source": []
  },
  {
   "cell_type": "code",
   "execution_count": 40,
   "metadata": {},
   "outputs": [
    {
     "name": "stdout",
     "output_type": "stream",
     "text": [
      "Extracting ORFs from NCBI annotation...\n"
     ]
    },
    {
     "name": "stderr",
     "output_type": "stream",
     "text": [
      "c:\\Users\\lukap\\AppData\\Local\\Programs\\Python\\Python311\\Lib\\site-packages\\Bio\\SeqFeature.py:231: BiopythonDeprecationWarning: Please use .location.strand rather than .strand\n",
      "  warnings.warn(\n"
     ]
    },
    {
     "name": "stdout",
     "output_type": "stream",
     "text": [
      "3868 ground truth ORFs found\n"
     ]
    },
    {
     "ename": "FileNotFoundError",
     "evalue": "[Errno 2] No such file or directory: 'record_ecoli.obj'",
     "output_type": "error",
     "traceback": [
      "\u001b[1;31m---------------------------------------------------------------------------\u001b[0m",
      "\u001b[1;31mFileNotFoundError\u001b[0m                         Traceback (most recent call last)",
      "Cell \u001b[1;32mIn[40], line 11\u001b[0m\n\u001b[0;32m      8\u001b[0m record_ecoli \u001b[38;5;241m=\u001b[39m \u001b[38;5;28;01mNone\u001b[39;00m\n\u001b[0;32m     10\u001b[0m \u001b[38;5;28;01mif\u001b[39;00m open_ecoli:\n\u001b[1;32m---> 11\u001b[0m     filehandler \u001b[38;5;241m=\u001b[39m \u001b[38;5;28;43mopen\u001b[39;49m\u001b[43m(\u001b[49m\u001b[43mfile_record_ecoli\u001b[49m\u001b[43m,\u001b[49m\u001b[43m \u001b[49m\u001b[38;5;124;43m'\u001b[39;49m\u001b[38;5;124;43mrb\u001b[39;49m\u001b[38;5;124;43m'\u001b[39;49m\u001b[43m)\u001b[49m\n\u001b[0;32m     12\u001b[0m     record_ecoli \u001b[38;5;241m=\u001b[39m pickle\u001b[38;5;241m.\u001b[39mload(filehandler) \n\u001b[0;32m     13\u001b[0m \u001b[38;5;28;01melse\u001b[39;00m:\n",
      "File \u001b[1;32mc:\\Users\\lukap\\AppData\\Local\\Programs\\Python\\Python311\\Lib\\site-packages\\IPython\\core\\interactiveshell.py:324\u001b[0m, in \u001b[0;36m_modified_open\u001b[1;34m(file, *args, **kwargs)\u001b[0m\n\u001b[0;32m    317\u001b[0m \u001b[38;5;28;01mif\u001b[39;00m file \u001b[38;5;129;01min\u001b[39;00m {\u001b[38;5;241m0\u001b[39m, \u001b[38;5;241m1\u001b[39m, \u001b[38;5;241m2\u001b[39m}:\n\u001b[0;32m    318\u001b[0m     \u001b[38;5;28;01mraise\u001b[39;00m \u001b[38;5;167;01mValueError\u001b[39;00m(\n\u001b[0;32m    319\u001b[0m         \u001b[38;5;124mf\u001b[39m\u001b[38;5;124m\"\u001b[39m\u001b[38;5;124mIPython won\u001b[39m\u001b[38;5;124m'\u001b[39m\u001b[38;5;124mt let you open fd=\u001b[39m\u001b[38;5;132;01m{\u001b[39;00mfile\u001b[38;5;132;01m}\u001b[39;00m\u001b[38;5;124m by default \u001b[39m\u001b[38;5;124m\"\u001b[39m\n\u001b[0;32m    320\u001b[0m         \u001b[38;5;124m\"\u001b[39m\u001b[38;5;124mas it is likely to crash IPython. If you know what you are doing, \u001b[39m\u001b[38;5;124m\"\u001b[39m\n\u001b[0;32m    321\u001b[0m         \u001b[38;5;124m\"\u001b[39m\u001b[38;5;124myou can use builtins\u001b[39m\u001b[38;5;124m'\u001b[39m\u001b[38;5;124m open.\u001b[39m\u001b[38;5;124m\"\u001b[39m\n\u001b[0;32m    322\u001b[0m     )\n\u001b[1;32m--> 324\u001b[0m \u001b[38;5;28;01mreturn\u001b[39;00m \u001b[43mio_open\u001b[49m\u001b[43m(\u001b[49m\u001b[43mfile\u001b[49m\u001b[43m,\u001b[49m\u001b[43m \u001b[49m\u001b[38;5;241;43m*\u001b[39;49m\u001b[43margs\u001b[49m\u001b[43m,\u001b[49m\u001b[43m \u001b[49m\u001b[38;5;241;43m*\u001b[39;49m\u001b[38;5;241;43m*\u001b[39;49m\u001b[43mkwargs\u001b[49m\u001b[43m)\u001b[49m\n",
      "\u001b[1;31mFileNotFoundError\u001b[0m: [Errno 2] No such file or directory: 'record_ecoli.obj'"
     ]
    }
   ],
   "source": [
    "print(\"Extracting ORFs from NCBI annotation...\")\n",
    "orfs_ecoli_gt = extract_gt_orfs(ecoli_genome, start_codons, stop_codons, verbose=False)\n",
    "print(f\"{len(orfs_ecoli_gt)} ground truth ORFs found\")\n",
    "\n",
    "open_ecoli = True\n",
    "save_ecoli = False\n",
    "file_record_ecoli = \"record_ecoli.obj\"\n",
    "record_ecoli = None\n",
    "\n",
    "if open_ecoli:\n",
    "    filehandler = open(file_record_ecoli, 'rb')\n",
    "    record_ecoli = pickle.load(filehandler) \n",
    "else:\n",
    "    handle = Entrez.efetch(db=\"nucleotide\", id=organism_id, rettype=\"gbwithparts\", retmode=\"text\")\n",
    "    record_ecoli = SeqIO.read(handle, \"genbank\")\n",
    "ecoli_seq = record_ecoli.seq\n",
    "\n",
    "if save_ecoli:\n",
    "    filehandler = open(file_record_ecoli, 'wb')\n",
    "    pickle.dump(record_ecoli, filehandler)\n",
    "\n",
    "\n",
    "open_orfs_ecoli_orig = True\n",
    "save_orfs_ecoli_orig = False\n",
    "file_orfs_ecoli_orig = \"orfs_ecoli_orig.obj\"\n",
    "orfs_ecoli_orig = None\n",
    "df_orfs_ecoli_orig = pd.DataFrame(orfs_ecoli_orig, columns=[\"strand\", \"start\", \"stop\"]) # reverse :)\n",
    "df_orfs_ecoli_orig['length'] = [(elem[2] - elem[1]) / 3 for elem in orfs_ecoli_orig]\n",
    "\n",
    "\n",
    "if open_orfs_ecoli_orig:\n",
    "    filehandler = open(file_orfs_ecoli_orig, 'rb')\n",
    "    orfs_ecoli_orig = pickle.load(filehandler) \n",
    "else:\n",
    "    orfs_ecoli_orig = find_all_orfs(ecoli_seq, [\"ATG\"], [\"TAA\", \"TGA\", \"TAG\"])\n",
    "\n",
    "if save_orfs_ecoli_orig:\n",
    "    filehandler = open(file_orfs_ecoli_orig, 'wb')\n",
    "    pickle.dump(orfs_ecoli_orig, filehandler)\n",
    "\n",
    "df_orfs_ecoli_orig = pd.DataFrame(orfs_ecoli_orig, columns=[\"strand\", \"start\", \"stop\"]) # reverse :)\n",
    "df_orfs_ecoli_orig['length'] = [(elem[2] - elem[1]) / 3 for elem in orfs_ecoli_orig]\n",
    "\n",
    "df_orfs_ecoli_gt = pd.DataFrame(orfs_ecoli_gt, columns=[\"strand\", \"start\", \"stop\"])\n",
    "df_orfs_ecoli_gt['length'] = [(elem[2] - elem[1]) / 3 for elem in orfs_ecoli_gt]\n",
    "\n",
    "# :)\n",
    "df_orfs_ecoli_orig['is_gt'] = [1 if (row[\"strand\"], row[\"start\"], row[\"stop\"]) in orfs_ecoli_gt else 0 for index, row in df_orfs_ecoli_orig.iterrows()]\n",
    "\n",
    "thresholds = np.array([x for x in range(1, int(max(max(df_orfs_ecoli_gt['length']), max(df_orfs_ecoli_orig['length']))+1))])\n",
    "\n",
    "open_metrics_eval = True\n",
    "save_metrics_eval = False\n",
    "file_metrics_eval = \"metrics_eval.obj\"\n",
    "metrics_eval = None\n",
    "\n",
    "if open_metrics_eval:\n",
    "    filehandler = open(file_metrics_eval, 'rb')\n",
    "    metrics_eval = pickle.load(filehandler)\n",
    "else:\n",
    "    def find_nearest(array, value):\n",
    "        array = np.asarray(array)\n",
    "        idx = (np.abs(array - value)).argmin()\n",
    "        return idx\n",
    "\n",
    "    # precision, recall, F1\n",
    "    def return_metrics(TP, FP, FN, TN):\n",
    "        return (TP/(TP+FP), TP/(TP+FN), 2*TP/(2*TP+FP+FN))\n",
    "\n",
    "    metrics_eval = []\n",
    "    orfs_size = len(df_orfs_ecoli_orig['length'])\n",
    "\n",
    "\n",
    "    for threshold in thresholds:\n",
    "        print(threshold)\n",
    "        index = int(find_nearest(df_orfs_ecoli_orig['length'], threshold))\n",
    "        #print(index)\n",
    "\n",
    "        # over / under threshold\n",
    "        df_orfs_ecoli_orig['temp_label'] = [1 if row[\"length\"] >= threshold else 0 for index, row in df_orfs_ecoli_orig.iterrows()]\n",
    "\n",
    "        TP = len(df_orfs_ecoli_orig[(df_orfs_ecoli_orig[\"temp_label\"] == 1) & (df_orfs_ecoli_orig[\"is_gt\"] == 1)])\n",
    "        FP = len(df_orfs_ecoli_orig[(df_orfs_ecoli_orig[\"temp_label\"] == 1) & (df_orfs_ecoli_orig[\"is_gt\"] == 0)])\n",
    "        FN = len(df_orfs_ecoli_orig[(df_orfs_ecoli_orig[\"temp_label\"] == 0) & (df_orfs_ecoli_orig[\"is_gt\"] == 1)]) # including treshold\n",
    "        #TN = len(df_orfs_ecoli_orig[(df_orfs_ecoli_orig[\"temp_label\"] == 0) & (df_orfs_ecoli_orig[\"is_gt\"] == 0)])\n",
    "        TN = orfs_size - TP - FP - FN\n",
    "\n",
    "        metrics_eval.append(return_metrics(TP, FP, FN, TN))\n",
    "\n",
    "if save_metrics_eval:\n",
    "    filehandler = open(file_metrics_eval, 'wb')\n",
    "    pickle.dump(metrics_eval, filehandler)\n",
    "\n",
    "max_f1 = max([x[2] for i, x in enumerate(metrics_eval)])\n",
    "\n",
    "bacteria_threshold_max_f1 = [x[2] for i, x in enumerate(metrics_eval)].index(mm)\n",
    "bacteria_threshold_max_f1\n",
    "\n",
    "plt.plot(thresholds, [x[0] for x in metrics_eval], c='b', label='precision')\n",
    "plt.plot(thresholds, [x[1] for x in metrics_eval], c='r', label='recall')\n",
    "plt.plot(thresholds, [x[2] for x in metrics_eval], c='g', label='F1')\n",
    "plt.axvline(bacteria_threshold, color='k', linewidth=1, label='threshold')\n",
    "x1,x2,y1,y2 = plt.axis()  \n",
    "plt.axis((x1,x2,0,y2))\n",
    "plt.legend()"
   ]
  },
  {
   "cell_type": "code",
   "execution_count": null,
   "metadata": {},
   "outputs": [],
   "source": [
    "permutation_threshold_reasonable = \"\"\"\n",
    "Is the threshold determined by the permutation test reasonable? Explain your answer with reasoning.\n",
    "\"\"\""
   ]
  },
  {
   "cell_type": "code",
   "execution_count": null,
   "metadata": {},
   "outputs": [],
   "source": [
    "different_thresholds = \"\"\"\n",
    "What would we be the advange of using a higher and a lower threshold value? Explain your reasoning.\n",
    "\"\"\""
   ]
  },
  {
   "cell_type": "markdown",
   "metadata": {},
   "source": [
    "# SARS-CoV-2\n",
    "\n",
    "SARS-CoV-2 is the prolific virus that causes the COVID-19 disease. We am sure most of you are well aware of what the disease does, so we'll skip any long-winded introduction. Instead, we'll jump straight into the genome of this pesky little virus.\n",
    "\n",
    "![](https://www.klinika-golnik.si/storage/_sites/golnik/app/media/Novice/cov-19.jpg)\n",
    "\n",
    "Image source: [klinika-golnik.si]()"
   ]
  },
  {
   "cell_type": "markdown",
   "metadata": {},
   "source": [
    "## Problem 3: SARS-CoV-2 gene candidates\n",
    "\n",
    "Having convinced ourselves sufficiently that our gene-candidate-finding procedure produces reasonable results, we can now turn our attention to the SARS-CoV-2 genome, which can be found in `data/sars_cov_2.txt`. Remember, we have no ground truth annotations about SARS-CoV-2 from NCBI, so it's up to you to find potential gene candidates and try to determine what each gene does.\n",
    "\n",
    "**TASK:**\n",
    "Run your ORF finder on the SARS-CoV-2 genome. Again, using a permutation test with 100 repetitions, determine a threshold for ORF lengths such that we keep only sequences with $p < 0.01$. As in the _E. Coli_ case, plot the distribution of ORF lengths in the random sequences and overlay this with your ORF lengths. Clearly indicate the permutation test threshold on the plot. Save your plot to `problem3.png`. Save your threshold into the `covid_threshold` variable.\n",
    "\n",
    "Then, answer the following questions:\n",
    "- Is this threshold the same as the one you got for _E. coli_? Why or why not? *Hint: Inspect the distributions of nucleotides for each organism.*\n",
    "- Can we perform the same F1/precision/recall experiment as we did for _E. Coli_ for SARS-CoV-2? Why or why not?\n",
    "\n",
    "Store your answers in the `different_thresholds` and `covid_proc_experiment` variables, respectively.\n",
    "\n",
    "**[5 points]**"
   ]
  },
  {
   "cell_type": "code",
   "execution_count": null,
   "metadata": {},
   "outputs": [],
   "source": [
    "start_codons = [\"ATG\"]\n",
    "stop_codons = [\"TGA\", \"TAA\", \"TAG\"]"
   ]
  },
  {
   "cell_type": "code",
   "execution_count": 38,
   "metadata": {},
   "outputs": [
    {
     "ename": "KeyboardInterrupt",
     "evalue": "",
     "output_type": "error",
     "traceback": [
      "\u001b[1;31m---------------------------------------------------------------------------\u001b[0m",
      "\u001b[1;31mKeyboardInterrupt\u001b[0m                         Traceback (most recent call last)",
      "Cell \u001b[1;32mIn[38], line 22\u001b[0m\n\u001b[0;32m     20\u001b[0m \u001b[38;5;28;01mfor\u001b[39;00m _ \u001b[38;5;129;01min\u001b[39;00m \u001b[38;5;28mrange\u001b[39m(num_repetitions):\n\u001b[0;32m     21\u001b[0m     random_seq \u001b[38;5;241m=\u001b[39m \u001b[38;5;124m'\u001b[39m\u001b[38;5;124m'\u001b[39m\u001b[38;5;241m.\u001b[39mjoin(random\u001b[38;5;241m.\u001b[39mchoices(sars_cov_2_genome, k\u001b[38;5;241m=\u001b[39m\u001b[38;5;28mlen\u001b[39m(sars_cov_2_genome)))\n\u001b[1;32m---> 22\u001b[0m     random_orfs \u001b[38;5;241m=\u001b[39m \u001b[43mfind_all_orfs\u001b[49m\u001b[43m(\u001b[49m\u001b[43mSeq\u001b[49m\u001b[43m(\u001b[49m\u001b[43mrandom_seq\u001b[49m\u001b[43m)\u001b[49m\u001b[43m,\u001b[49m\u001b[43m \u001b[49m\u001b[43mstart_codons\u001b[49m\u001b[43m,\u001b[49m\u001b[43m \u001b[49m\u001b[43mstop_codons\u001b[49m\u001b[43m)\u001b[49m\n\u001b[0;32m     23\u001b[0m     random_orf_lengths\u001b[38;5;241m.\u001b[39mextend([orf[\u001b[38;5;241m2\u001b[39m] \u001b[38;5;241m-\u001b[39m orf[\u001b[38;5;241m1\u001b[39m] \u001b[38;5;28;01mfor\u001b[39;00m orf \u001b[38;5;129;01min\u001b[39;00m random_orfs])\n\u001b[0;32m     25\u001b[0m \u001b[38;5;66;03m# 3. Determine the threshold for p < 0.01\u001b[39;00m\n",
      "File \u001b[1;32mc:\\Users\\lukap\\Downloads\\homework-1-a-first-look-at-the-genome-new-Luka24-master\\homework-1-a-first-look-at-the-genome-new-Luka24-master\\helper_functions.py:186\u001b[0m, in \u001b[0;36mfind_all_orfs\u001b[1;34m(sequence, start_codons, stop_codons)\u001b[0m\n\u001b[0;32m    184\u001b[0m seq_len \u001b[38;5;241m=\u001b[39m \u001b[38;5;28mlen\u001b[39m(sequence)\n\u001b[0;32m    185\u001b[0m \u001b[38;5;28;01mfor\u001b[39;00m offset \u001b[38;5;129;01min\u001b[39;00m \u001b[38;5;28mrange\u001b[39m(\u001b[38;5;241m3\u001b[39m):\n\u001b[1;32m--> 186\u001b[0m     orfs\u001b[38;5;241m.\u001b[39mextend([(\u001b[38;5;241m-\u001b[39m\u001b[38;5;241m1\u001b[39m,seq_len\u001b[38;5;241m-\u001b[39melem[\u001b[38;5;241m1\u001b[39m]\u001b[38;5;241m-\u001b[39moffset,seq_len\u001b[38;5;241m-\u001b[39melem[\u001b[38;5;241m0\u001b[39m]\u001b[38;5;241m-\u001b[39moffset) \u001b[38;5;28;01mfor\u001b[39;00m elem \u001b[38;5;129;01min\u001b[39;00m \u001b[43mfind_orfs\u001b[49m\u001b[43m(\u001b[49m\u001b[43mseq_comp\u001b[49m\u001b[43m[\u001b[49m\u001b[43moffset\u001b[49m\u001b[43m:\u001b[49m\u001b[43m]\u001b[49m\u001b[43m,\u001b[49m\u001b[43m \u001b[49m\u001b[43mstart_codons\u001b[49m\u001b[43m,\u001b[49m\u001b[43m \u001b[49m\u001b[43mstop_codons\u001b[49m\u001b[43m)\u001b[49m])\n\u001b[0;32m    188\u001b[0m \u001b[38;5;28;01mreturn\u001b[39;00m orfs\n",
      "File \u001b[1;32mc:\\Users\\lukap\\Downloads\\homework-1-a-first-look-at-the-genome-new-Luka24-master\\homework-1-a-first-look-at-the-genome-new-Luka24-master\\helper_functions.py:149\u001b[0m, in \u001b[0;36mfind_orfs\u001b[1;34m(sequence, start_codons, stop_codons)\u001b[0m\n\u001b[0;32m    147\u001b[0m orfs \u001b[38;5;241m=\u001b[39m []\n\u001b[0;32m    148\u001b[0m \u001b[38;5;28;01mfor\u001b[39;00m i \u001b[38;5;129;01min\u001b[39;00m \u001b[38;5;28mrange\u001b[39m(\u001b[38;5;241m0\u001b[39m, \u001b[38;5;28mlen\u001b[39m(sequence) \u001b[38;5;241m-\u001b[39m \u001b[38;5;241m2\u001b[39m, \u001b[38;5;241m3\u001b[39m):\n\u001b[1;32m--> 149\u001b[0m     \u001b[38;5;28;01mif\u001b[39;00m \u001b[38;5;129;01mnot\u001b[39;00m in_orf \u001b[38;5;129;01mand\u001b[39;00m \u001b[43msequence\u001b[49m\u001b[43m[\u001b[49m\u001b[43mi\u001b[49m\u001b[43m:\u001b[49m\u001b[43mi\u001b[49m\u001b[43m \u001b[49m\u001b[38;5;241;43m+\u001b[39;49m\u001b[43m \u001b[49m\u001b[38;5;241;43m3\u001b[39;49m\u001b[43m]\u001b[49m \u001b[38;5;129;01min\u001b[39;00m start_codons:\n\u001b[0;32m    150\u001b[0m         start \u001b[38;5;241m=\u001b[39m i\n\u001b[0;32m    151\u001b[0m         in_orf \u001b[38;5;241m=\u001b[39m \u001b[38;5;28;01mTrue\u001b[39;00m\n",
      "File \u001b[1;32mc:\\Users\\lukap\\AppData\\Local\\Programs\\Python\\Python311\\Lib\\site-packages\\Bio\\Seq.py:527\u001b[0m, in \u001b[0;36m_SeqAbstractBaseClass.__getitem__\u001b[1;34m(self, index)\u001b[0m\n\u001b[0;32m    524\u001b[0m     \u001b[38;5;28;01mreturn\u001b[39;00m \u001b[38;5;28mchr\u001b[39m(\u001b[38;5;28mself\u001b[39m\u001b[38;5;241m.\u001b[39m_data[index])\n\u001b[0;32m    525\u001b[0m \u001b[38;5;28;01melse\u001b[39;00m:\n\u001b[0;32m    526\u001b[0m     \u001b[38;5;66;03m# Return the (sub)sequence as another Seq/MutableSeq object\u001b[39;00m\n\u001b[1;32m--> 527\u001b[0m     \u001b[38;5;28;01mreturn\u001b[39;00m \u001b[38;5;28;43mself\u001b[39;49m\u001b[38;5;241;43m.\u001b[39;49m\u001b[38;5;18;43m__class__\u001b[39;49m\u001b[43m(\u001b[49m\u001b[38;5;28;43mself\u001b[39;49m\u001b[38;5;241;43m.\u001b[39;49m\u001b[43m_data\u001b[49m\u001b[43m[\u001b[49m\u001b[43mindex\u001b[49m\u001b[43m]\u001b[49m\u001b[43m)\u001b[49m\n",
      "File \u001b[1;32mc:\\Users\\lukap\\AppData\\Local\\Programs\\Python\\Python311\\Lib\\site-packages\\Bio\\Seq.py:2043\u001b[0m, in \u001b[0;36mSeq.__init__\u001b[1;34m(self, data, length)\u001b[0m\n\u001b[0;32m   2027\u001b[0m \u001b[38;5;250m\u001b[39m\u001b[38;5;124;03m\"\"\"Read-only sequence object (essentially a string with biological methods).\u001b[39;00m\n\u001b[0;32m   2028\u001b[0m \n\u001b[0;32m   2029\u001b[0m \u001b[38;5;124;03mLike normal python strings, our basic sequence object is immutable.\u001b[39;00m\n\u001b[1;32m   (...)\u001b[0m\n\u001b[0;32m   2038\u001b[0m \u001b[38;5;124;03mnot applicable to protein sequences).\u001b[39;00m\n\u001b[0;32m   2039\u001b[0m \u001b[38;5;124;03m\"\"\"\u001b[39;00m\n\u001b[0;32m   2041\u001b[0m _data: Union[\u001b[38;5;28mbytes\u001b[39m, SequenceDataAbstractBaseClass]\n\u001b[1;32m-> 2043\u001b[0m \u001b[38;5;28;01mdef\u001b[39;00m \u001b[38;5;21m__init__\u001b[39m(\n\u001b[0;32m   2044\u001b[0m     \u001b[38;5;28mself\u001b[39m,\n\u001b[0;32m   2045\u001b[0m     data: Union[\n\u001b[0;32m   2046\u001b[0m         \u001b[38;5;28mstr\u001b[39m,\n\u001b[0;32m   2047\u001b[0m         \u001b[38;5;28mbytes\u001b[39m,\n\u001b[0;32m   2048\u001b[0m         \u001b[38;5;28mbytearray\u001b[39m,\n\u001b[0;32m   2049\u001b[0m         _SeqAbstractBaseClass,\n\u001b[0;32m   2050\u001b[0m         SequenceDataAbstractBaseClass,\n\u001b[0;32m   2051\u001b[0m         \u001b[38;5;28mdict\u001b[39m,\n\u001b[0;32m   2052\u001b[0m         \u001b[38;5;28;01mNone\u001b[39;00m,\n\u001b[0;32m   2053\u001b[0m     ],\n\u001b[0;32m   2054\u001b[0m     length: Optional[\u001b[38;5;28mint\u001b[39m] \u001b[38;5;241m=\u001b[39m \u001b[38;5;28;01mNone\u001b[39;00m,\n\u001b[0;32m   2055\u001b[0m ):\n\u001b[0;32m   2056\u001b[0m \u001b[38;5;250m    \u001b[39m\u001b[38;5;124;03m\"\"\"Create a Seq object.\u001b[39;00m\n\u001b[0;32m   2057\u001b[0m \n\u001b[0;32m   2058\u001b[0m \u001b[38;5;124;03m    Arguments:\u001b[39;00m\n\u001b[1;32m   (...)\u001b[0m\n\u001b[0;32m   2106\u001b[0m \u001b[38;5;124;03m    ACGT\u001b[39;00m\n\u001b[0;32m   2107\u001b[0m \u001b[38;5;124;03m    \"\"\"\u001b[39;00m\n\u001b[0;32m   2108\u001b[0m     \u001b[38;5;28;01mif\u001b[39;00m data \u001b[38;5;129;01mis\u001b[39;00m \u001b[38;5;28;01mNone\u001b[39;00m:\n",
      "\u001b[1;31mKeyboardInterrupt\u001b[0m: "
     ]
    }
   ],
   "source": [
    "\n",
    "\n",
    "\n",
    "\n",
    "\n",
    "\n",
    "import random\n",
    "import matplotlib.pyplot as plt\n",
    "from helper_functions import find_all_orfs\n",
    "from Bio.Seq import Seq\n",
    "\n",
    "# Load the SARS-CoV-2 genome\n",
    "with open('data/sars_cov_2.txt', 'r') as file:\n",
    "    sars_cov_2_genome = Seq(file.read().replace('\\n', ''))\n",
    "\n",
    "\n",
    "\n",
    "# 1. Find all ORFs in the SARS-CoV-2 genome\n",
    "sars_orfs = find_all_orfs(sars_cov_2_genome, start_codons, stop_codons)\n",
    "sars_orf_lengths = [orf[2] - orf[1] for orf in sars_orfs]  # Calculate ORF lengths in base pairs\n",
    "\n",
    "# 2. Permutation test to determine the length threshold for ORFs\n",
    "num_repetitions = 100\n",
    "random_orf_lengths = []\n",
    "\n",
    "for _ in range(num_repetitions):\n",
    "    random_seq = ''.join(random.choices(sars_cov_2_genome, k=len(sars_cov_2_genome)))\n",
    "    random_orfs = find_all_orfs(Seq(random_seq), start_codons, stop_codons)\n",
    "    random_orf_lengths.extend([orf[2] - orf[1] for orf in random_orfs])\n",
    "\n",
    "# 3. Determine the threshold for p < 0.01\n",
    "threshold = np.percentile(random_orf_lengths, 99) / 3  # Divide by 3 to get length in codons\n",
    "covid_threshold = int(threshold)\n",
    "\n",
    "# 4. Plotting\n",
    "plt.figure(figsize=(10, 6))\n",
    "plt.hist([length / 3 for length in random_orf_lengths], bins=50, alpha=0.5, label=\"Random Sequences\", color='skyblue')\n",
    "plt.hist([length / 3 for length in sars_orf_lengths], bins=50, alpha=0.7, label=\"SARS-CoV-2 ORFs\", color='coral')\n",
    "plt.axvline(covid_threshold, color='red', linestyle='--', label=f\"Threshold (p < 0.01) = {covid_threshold} codons\")\n",
    "plt.yscale('log')\n",
    "plt.xlabel(\"ORF Length (codons)\")\n",
    "plt.ylabel(\"Frequency (log scale)\")\n",
    "plt.legend()\n",
    "plt.title(\"ORF Length Distribution for SARS-CoV-2 Genome vs Random Sequences\")\n",
    "plt.savefig(\"problem3.png\")\n"
   ]
  },
  {
   "cell_type": "code",
   "execution_count": null,
   "metadata": {},
   "outputs": [],
   "source": [
    "covid_threshold = 68"
   ]
  },
  {
   "cell_type": "code",
   "execution_count": null,
   "metadata": {},
   "outputs": [],
   "source": [
    "different_thresholds = \"\"\"The threshold is different from the E. coli genome because nucleotide composition and genome structure differ significantly between the two organisms.\"\"\""
   ]
  },
  {
   "cell_type": "code",
   "execution_count": null,
   "metadata": {},
   "outputs": [],
   "source": [
    "covid_proc_experiment = \"\"\"\n",
    "No, we cannot perform the precision/recall experiment for SARS-CoV-2 since there is no ground truth annotation available for validation, unlike the E. coli genome.\n",
    "\"\"\""
   ]
  },
  {
   "cell_type": "markdown",
   "metadata": {},
   "source": [
    "## Problem 4: Determining gene functionality from amino acid sequence\n",
    "\n",
    "Okay, so we've found and filtered down our gene candidates, but now what? The next step is to figure out what these genes might do. So, what _do_ these genes do? Well, nothing by themselves. If DNA is the cookbook, then the genes are the recipes. They tell us how to prepare each dish. Recipes by themselves are nothing but information. It is the actual dishes we care about: the proteins. It is the proteins that actually _do_ things inside our cells.\n",
    "\n",
    "An organism can read codons in ORFs (hence open-READING-frame) and translate the language of codons into amino acids. Codons in a DNA sequence are translated into amino acids consecutively, forming a long chain. The amino acid chain folds into a macromolecule called protein (as shown in the picture below). Their 3D structure is crucial for their function.\n",
    "We can predict protein characteristics from the amino acid sequence, such as their location in a cell. However, for a more concrete prediction of the functionality, we would have to use more sophisticated approaches, such as BLAST or AlphaFold.\n",
    "\n",
    "![](https://upload.wikimedia.org/wikipedia/commons/thumb/a/a9/Protein_folding.png/360px-Protein_folding.png)\n",
    "\n",
    "Image source: [Wikipedia](https://en.wikipedia.org/wiki/Protein_folding#/media/File:Protein_folding.png)\n",
    "\n",
    "**Intro to hydrophobicity**\n",
    "\n",
    "The hydrophobicity of an amino acid is its tendency to repel water molecules. These amino acids tend to stick together in a non-polar environment. One well-known example of hydrophobicity is the lipid membrane of cells. This hydrophobic cell membrane ensures that the environment outside the cell (water and anything inside that water) stays outside, and all the important bits of the cell (e.g., the mitochondria, nucleus, ribosomes) stay inside the cell.\n",
    "\n",
    "![](https://i.pinimg.com/originals/5f/44/ac/5f44ac7665a7c003342dca018ce23077.jpg)\n",
    "\n",
    "Image source: [Pinterest](https://www.pinterest.com/pin/488007309597008815/)\n",
    "\n",
    "Hydrophilic proteins cannot pass through the hydrophobic membrane since its hydrophobic interior will repel them, but hydrophobic proteins can sit happily embedded inside the membrane. These hydrophobic proteins are called _transmembrane_ proteins. Transmembrane proteins typically function as transport channels between the interior and exterior of the cell and enable cell signaling and absorption. In the case of viruses, e.g., SARS-CoV-2, we expect at least some proteins to be embedded in the viral membrane. For instance, SARS-CoV-2 viruses can only enter human cells when the spike protein that sticks out on the exterior of the virus binds to a specific receptor in human cells.\n",
    "\n",
    "![](https://o.quizlet.com/qBs-A5bu4m1ZI4IdWv1OUA_b.png)\n",
    "\n",
    "Image source: [Quizlet](https://quizlet.com/331498946/structure-of-transmembrane-proteins-diagram/)\n",
    "\n",
    "Transmembrane proteins usually contain more hydrophobic amino acids than other proteins because their environment is a strictly hydrophobic lipid membrane. Therefore, one naive approach to finding transmembrane proteins might be to look for proteins with a high degree of hydrophobicity.\n",
    "\n",
    "\n",
    "The less-biological explanation of all this might be that the little, yellow hydrophobic tails of the lipids in the membrane attract each other because they are all hydrophobic. They can also attract proteins, provided that the amino acids inside that protein are also hydrophobic. The little hydrophobic tails also repel anything hydrophilic, so hydrophilic proteins can't pass through the hydrophobic membrane. So, simply put, hydrophobic molecules attract other hydrophobic molecules and repel any hydrophilic molecules. Finally, hydrophobic molecules repel water, while hydrophilic molecules are drawn toward water."
   ]
  },
  {
   "cell_type": "markdown",
   "metadata": {},
   "source": [
    "**TASK**:\n",
    "\n",
    "**a)** Implement the `translate_to_protein` function in `helper_functions.py`. Do not use Biopython for this in this homework -- we want you to implement this yourself. Stop codons should translate into an empty string (\"\").\n",
    "\n",
    "**[5 points]**"
   ]
  },
  {
   "cell_type": "code",
   "execution_count": 44,
   "metadata": {},
   "outputs": [
    {
     "name": "stdout",
     "output_type": "stream",
     "text": [
      "None\n"
     ]
    }
   ],
   "source": [
    "from helper_functions import translate_to_protein\n",
    "\n",
    "nucleotide_sequence = \"AUGGCCUAA\"  # Example nucleotide sequence (start, amino acids, stop)\n",
    "protein_sequence = translate_to_protein(nucleotide_sequence)\n",
    "print(protein_sequence)  # Output: \"MA\""
   ]
  },
  {
   "cell_type": "markdown",
   "metadata": {},
   "source": [
    "**b)** Use the function `extract_gt_orfs` from `helper_functions.py` with parameter `validate=False` to extract all available genes for _E. Coli_. Translate these ground truth genes to protein sequences and calculate their average hydrophobicity. The average protein hydrophobicity is calculated as the average hydrophobicity of all amino acids in the protein sequence. You can find the hydrophobicity values for each amino acid in `data/aminoacid_properties.csv`.\n",
    "\n",
    "Next, find, filter, and translate the ORFs (found by your ORF finder and filtered according to the permutation test threshold) in the SARS-CoV-2 genome and calculate the average hydrophobicity of these potential proteins.\n",
    "\n",
    "Plot the distribution of the average hydrophobicities for all proteins found in _E. coli_. Overlay this distribution with a scatter plot of the hydrophobicity values of your SARS-CoV-2 protein candidates. Save the resulting figure to `problem4.png`.\n",
    "\n",
    "Inspect the distribution of the bacterial proteins. Are there proteins that seem to have a larger hydrophobicity than others? If so, these would probably be good candidates for transmembrane proteins. Compare these to the hydrophobicities of the SARS-CoV-2 proteins you showed with a scatter plot. Are there any proteins in the SARS-CoV-2 genome that we could classify as transmembrane proteins just by referencing the distribution of bacterial proteins? If so, save the ORFs you think may correspond to transmembrane proteins to the `transmembrane_candidates` variable.\n",
    "\n",
    "*Hint: you should be able to find between 2-4 transmembrane protein candidates in the SARS-CoV-2 genome.*\n",
    "\n",
    "**[10 points]**"
   ]
  },
  {
   "cell_type": "code",
   "execution_count": 50,
   "metadata": {},
   "outputs": [
    {
     "name": "stdout",
     "output_type": "stream",
     "text": [
      "Test Case 1: Expected 'AAA', Got 'None'\n",
      "Test Case 2: Expected 'DED', Got 'None'\n",
      "Test Case 3: Expected 'MLL', Got 'None'\n",
      "Test Case 4: Expected 'A', Got 'None'\n",
      "Test Case 5: Expected 'W', Got 'None'\n",
      "Test Case 6: Expected '', Got 'None'\n",
      "Test Case 7: Expected 'A', Got 'None'\n",
      "Test Case 8: Expected 'AA', Got 'None'\n"
     ]
    }
   ],
   "source": [
    "# Example usage\n",
    "#nucleotide_sequence = \"Seq('ATGAAACGCATTAGCACCACCATTACCACCACCATCACCATTACCACAGGTAACTGA')\"  # Example nucleotide sequence (start, amino acids, stop)\n",
    "#protein_sequence = translate_to_protein(nucleotide_sequence)\n",
    "#print(protein_sequence)  # Output: \"MA\"\n",
    "\n",
    "def translate_to_protein1(seq):\n",
    "    \"\"\"Translate a nucleotide sequence into a protein sequence.\n",
    "\n",
    "    Parameters\n",
    "    ----------\n",
    "    seq: str\n",
    "\n",
    "    Returns\n",
    "    -------\n",
    "    str\n",
    "        The translated protein sequence.\n",
    "\n",
    "    \"\"\"\n",
    "    translations = {\n",
    "        \"A\": [\"GCT\", \"GCC\", \"GCA\", \"GCG\"],\n",
    "        \"C\": [\"TGT\", \"TGC\"],\n",
    "        \"D\": [\"GAT\", \"GAC\"],\n",
    "        \"E\": [\"GAA\", \"GAG\"],\n",
    "        \"F\": [\"TTT\", \"TTC\"],\n",
    "        \"G\": [\"GGT\", \"GGC\", \"GGA\", \"GGG\"],\n",
    "        \"H\": [\"CAT\", \"CAC\"],\n",
    "        \"I\": [\"ATT\", \"ATC\", \"ATA\"],\n",
    "        \"K\": [\"AAA\", \"AAG\"],\n",
    "        \"L\": [\"TTA\", \"TTG\", \"CTT\", \"CTC\", \"CTA\", \"CTG\"],\n",
    "        \"M\": [\"ATG\"],\n",
    "        \"N\": [\"AAT\", \"AAC\"],\n",
    "        \"P\": [\"CCT\", \"CCC\", \"CCA\", \"CCG\"],\n",
    "        \"Q\": [\"CAA\", \"CAG\"],\n",
    "        \"R\": [\"CGT\", \"CGC\", \"CGA\", \"CGG\", \"AGA\", \"AGG\"],\n",
    "        \"S\": [\"TCT\", \"TCC\", \"TCA\", \"TCG\", \"AGT\", \"AGC\"],\n",
    "        \"T\": [\"ACT\", \"ACC\", \"ACA\", \"ACG\"],\n",
    "        \"V\": [\"GTT\", \"GTC\", \"GTA\", \"GTG\"],\n",
    "        \"W\": [\"TGG\"],\n",
    "        \"Y\": [\"TAC\", \"TAT\"]\n",
    "    }\n",
    "\n",
    "    def get_key(element_to_find):\n",
    "        for key, values in translations.items():\n",
    "            if element_to_find in values:\n",
    "                return key\n",
    "        return \"\"\n",
    "\n",
    "    out = \"\"\n",
    "\n",
    "    #print(len(seq))\n",
    "    for i in range(0, len(seq)-2, 3):\n",
    "        #print(i)\n",
    "        #print(out)\n",
    "        #print( seq[i:i+3])\n",
    "        out += get_key(seq[i:i+3])\n",
    "\n",
    "    return out\n",
    "\n",
    "def test_translate_to_protein():\n",
    "    test_cases = [\n",
    "        (\"GCTGCCGCA\", \"AAA\"),  # Test Case 1\n",
    "        (\"GATGACGAA\", \"DED\"),  # Test Case 2\n",
    "        (\"ATGGGCTTG\", \"MLL\"),  # Test Case 3\n",
    "        (\"GCT\", \"A\"),          # Test Case 4\n",
    "        (\"TGG\", \"W\"),          # Test Case 5\n",
    "        (\"XYZ\", \"\"),           # Test Case 6 (Invalid codon)\n",
    "        (\"GCTGC\", \"A\"),       # Test Case 7 (Partial codon)\n",
    "        (\"GCTGCCG\", \"AA\"),    # Test Case 8 (Incomplete codon ignored)\n",
    "    ]\n",
    "\n",
    "    for i, (input_seq, expected) in enumerate(test_cases, start=1):\n",
    "        result = translate_to_protein(input_seq)\n",
    "        print(f\"Test Case {i}: Expected '{expected}', Got '{result}'\")\n",
    "\n",
    "# Run the test cases\n",
    "test_translate_to_protein()\n",
    "\n"
   ]
  },
  {
   "cell_type": "code",
   "execution_count": 45,
   "metadata": {},
   "outputs": [
    {
     "name": "stderr",
     "output_type": "stream",
     "text": [
      "c:\\Users\\lukap\\AppData\\Local\\Programs\\Python\\Python311\\Lib\\site-packages\\Bio\\SeqFeature.py:231: BiopythonDeprecationWarning: Please use .location.strand rather than .strand\n",
      "  warnings.warn(\n"
     ]
    },
    {
     "ename": "TypeError",
     "evalue": "object of type 'NoneType' has no len()",
     "output_type": "error",
     "traceback": [
      "\u001b[1;31m---------------------------------------------------------------------------\u001b[0m",
      "\u001b[1;31mTypeError\u001b[0m                                 Traceback (most recent call last)",
      "Cell \u001b[1;32mIn[45], line 37\u001b[0m\n\u001b[0;32m     35\u001b[0m a \u001b[38;5;241m=\u001b[39m sub_seq \u001b[38;5;28;01mif\u001b[39;00m orf[\u001b[38;5;241m0\u001b[39m] \u001b[38;5;241m==\u001b[39m \u001b[38;5;241m1\u001b[39m \u001b[38;5;28;01melse\u001b[39;00m reverse_complement(sub_seq)\n\u001b[0;32m     36\u001b[0m protein \u001b[38;5;241m=\u001b[39m translate_to_protein(sub_seq \u001b[38;5;28;01mif\u001b[39;00m orf[\u001b[38;5;241m0\u001b[39m] \u001b[38;5;241m==\u001b[39m \u001b[38;5;241m1\u001b[39m \u001b[38;5;28;01melse\u001b[39;00m reverse_complement(sub_seq))\n\u001b[1;32m---> 37\u001b[0m \u001b[38;5;28;01mif\u001b[39;00m \u001b[38;5;28;43mlen\u001b[39;49m\u001b[43m(\u001b[49m\u001b[43mprotein\u001b[49m\u001b[43m)\u001b[49m \u001b[38;5;241m>\u001b[39m \u001b[38;5;241m0\u001b[39m:  \u001b[38;5;66;03m# Avoid ZeroDivisionError\u001b[39;00m\n\u001b[0;32m     38\u001b[0m     sum_hydro \u001b[38;5;241m=\u001b[39m \u001b[38;5;28msum\u001b[39m([hydrophobicity_dict\u001b[38;5;241m.\u001b[39mget(x, \u001b[38;5;241m0\u001b[39m) \u001b[38;5;28;01mfor\u001b[39;00m x \u001b[38;5;129;01min\u001b[39;00m protein])  \u001b[38;5;66;03m# Default to 0 if amino acid not found\u001b[39;00m\n\u001b[0;32m     39\u001b[0m     avg_hydro \u001b[38;5;241m=\u001b[39m sum_hydro \u001b[38;5;241m/\u001b[39m \u001b[38;5;28mlen\u001b[39m(protein)\n",
      "\u001b[1;31mTypeError\u001b[0m: object of type 'NoneType' has no len()"
     ]
    }
   ],
   "source": [
    "import csv\n",
    "import matplotlib.pyplot as plt\n",
    "\n",
    "\n",
    "# Load the SARS-CoV-2 genome\n",
    "with open('data/sars_cov_2.txt', 'r') as file:\n",
    "    sars_cov_2_genome = Seq(file.read().replace('\\n', ''))\n",
    "\n",
    "\n",
    "# Load hydrophobicity values from CSV\n",
    "with open('data/aminoacid_properties.csv', mode='r') as infile:\n",
    "    reader = csv.reader(infile)\n",
    "    next(reader, None)\n",
    "    hydrophobicity_dict = {str(rows[0]): float(rows[1]) for rows in reader}\n",
    "\n",
    "def reverse_complement(seq):\n",
    "    mapper = {\n",
    "        \"A\": \"T\",\n",
    "        \"T\": \"A\",\n",
    "        \"C\": \"G\",\n",
    "        \"G\": \"C\",\n",
    "    }\n",
    "    s = \"\"\n",
    "    for i in range(len(seq) - 1, -1, -1):\n",
    "        s += mapper.get(seq[i], \"\")  # Use `get` to avoid KeyError for invalid bases\n",
    "    return s\n",
    "\n",
    "# Extract ORFs without validation\n",
    "orfs_ecoli_gt_novalid = extract_gt_orfs(ecoli_genome, start_codons, stop_codons, verbose=False, validate_cds=False)\n",
    "\n",
    "# Calculate average hydrophobicity for each E. coli protein\n",
    "hydrophobicities_ecoli = []\n",
    "for orf in orfs_ecoli_gt_novalid:\n",
    "    sub_seq = sequence[orf[1]:orf[2]]\n",
    "    a = sub_seq if orf[0] == 1 else reverse_complement(sub_seq)\n",
    "    protein = translate_to_protein(sub_seq if orf[0] == 1 else reverse_complement(sub_seq))\n",
    "    if len(protein) > 0:  # Avoid ZeroDivisionError\n",
    "        sum_hydro = sum([hydrophobicity_dict.get(x, 0) for x in protein])  # Default to 0 if amino acid not found\n",
    "        avg_hydro = sum_hydro / len(protein)\n",
    "        hydrophobicities_ecoli.append(avg_hydro)\n",
    "\n",
    "# Filter SARS-CoV-2 ORFs based on threshold\n",
    "orfs_sars = find_all_orfs(sars_cov_2_genome, start_codons, stop_codons)\n",
    "orfs_sars_filtered = list(filter(lambda x: (x[2] - x[1]) / 3 >= covid_threshold, orfs_sars))\n",
    "\n",
    "# Calculate average hydrophobicity for each SARS-CoV-2 protein\n",
    "hydrophobicities_sars = []\n",
    "for orf in orfs_sars_filtered:\n",
    "    sub_seq = sars_cov_2_genome[orf[1]:orf[2]]\n",
    "    protein = translate_to_protein(sub_seq if orf[0] == 1 else reverse_complement(sub_seq))\n",
    "    if len(protein) > 0:  # Avoid ZeroDivisionError\n",
    "        sum_hydro = sum([hydrophobicity_dict.get(x, 0) for x in protein])  # Default to 0 if amino acid not found\n",
    "        avg_hydro = sum_hydro / len(protein)\n",
    "        hydrophobicities_sars.append(avg_hydro)\n",
    "\n",
    "# Plot histogram and scatter plot\n",
    "plt.hist(hydrophobicities_ecoli, alpha=0.5, label=\"ecoli\", color=\"b\", bins=100)\n",
    "plt.scatter(hydrophobicities_sars, [50 for _ in hydrophobicities_sars], label=\"sars\", color=\"r\", s=[15 for _ in hydrophobicities_sars])\n",
    "plt.legend(loc='upper right')\n",
    "plt.savefig(\"problem4.png\")\n",
    "plt.show()\n",
    "\n",
    "# Identify transmembrane candidates in SARS-CoV-2 based on E. coli hydrophobicity threshold\n",
    "transmembrane_candidates = []\n",
    "p = 0.1  # Example threshold percentage for top 10% hydrophobicity\n",
    "\"\"\"threshold_sars = sorted(hydrophobicities_ecoli)[-int(p * len(hydrophobicities_ecoli))]\n",
    "for i, hydro in enumerate(hydrophobicities_sars):\n",
    "    if hydro >= threshold_sars:  # Add ORFs exceeding threshold to candidates\n",
    "        transmembrane_candidates.append(orfs_sars_filtered[i])\"\"\"\n"
   ]
  },
  {
   "cell_type": "code",
   "execution_count": null,
   "metadata": {},
   "outputs": [],
   "source": []
  },
  {
   "cell_type": "markdown",
   "metadata": {},
   "source": [
    "## Bonus problem: Visualizing ORF candidates\n",
    "\n",
    "You may have noticed in problem 2 that even when keeping all the genes, our recall was well below 1. This means that even without any filtering, we weren't able to find all the ORFs that are actually genes. The reason for this is that we defined ORFs to be the longest contiguous sequence of codons between a start and a stop codon. This is a simplification of what really happens in biology. Not all start codons actually determine the beginning of a coding (gene) sequence. ORFs themselves can contain start codons since the ATG codon itself codes for Methionine. To be completely thorough, each start codon should start its own ORF.\n",
    "\n",
    "In this exercise, we will define an ORF to be **any** contiguous sequence of codons between a start and a stop codon. For instance, ATGAAAATGAAATGA now contains two ORFs: ATGAAAATGAAATGA and ATGAAATGA.\n",
    "\n",
    "**TASK**: Implement the `find_all_orfs_nested` function in `helper_functions.py`, following the above definition of an ORF. Visualize where the ORF candidates are found on the SARS-CoV-2 genome. Save your plot to `problem-orf-viz.png`.\n",
    "\n",
    "You can look at this image for a general direction: https://www.ncbi.nlm.nih.gov/nuccore/NC_002549.1?report=graph. Take care to optimize the layout and make the plot as compact as possible while still being readable and visually appealing. If you have a different idea for an informative visualization, that's even better. Feel free to apply any kind of filtering to the ORFs in your plot.\n",
    "\n",
    " **[5 points]**"
   ]
  },
  {
   "cell_type": "code",
   "execution_count": 2,
   "metadata": {},
   "outputs": [
    {
     "data": {
      "image/png": "[encoded data removed]",
      "text/plain": [
       "<Figure size 1500x600 with 1 Axes>"
      ]
     },
     "metadata": {},
     "output_type": "display_data"
    }
   ],
   "source": [
    "import matplotlib.pyplot as plt\n",
    "from Bio.Seq import Seq\n",
    "from helper_functions import find_all_orfs_nested\n",
    "\n",
    "# Load the genome sequence and find nested ORFs\n",
    "with open(\"data/sars_cov_2.txt\", \"r\") as file:\n",
    "    sars_cov2_genome = Seq(file.read().replace(\"\\n\", \"\"))\n",
    "\n",
    "# Define start and stop codons\n",
    "start_codons = [\"ATG\"]\n",
    "stop_codons = [\"TGA\", \"TAA\", \"TAG\"]\n",
    "\n",
    "# Find nested ORFs\n",
    "nested_orfs = find_all_orfs_nested(sars_cov2_genome, start_codons, stop_codons)\n",
    "\n",
    "# Plotting the ORFs on the genome\n",
    "plt.figure(figsize=(15, 6))\n",
    "for orf in nested_orfs:\n",
    "    strand, start, stop = orf\n",
    "    color = \"blue\" if strand == 1 else \"red\"\n",
    "    y_pos = strand * (1 + (start % 3))  # Separate frames by y position\n",
    "    plt.plot([start, stop], [y_pos, y_pos], color=color, linewidth=2)\n",
    "\n",
    "# Formatting the plot\n",
    "plt.title(\"Visualization of ORF Candidates on SARS-CoV-2 Genome\")\n",
    "plt.xlabel(\"Genome Position\")\n",
    "plt.ylabel(\"ORF Frame and Strand\")\n",
    "plt.yticks([-3, -2, -1, 1, 2, 3], [\"Frame -3\", \"Frame -2\", \"Frame -1\", \"Frame +1\", \"Frame +2\", \"Frame +3\"])\n",
    "plt.grid(True, linestyle='--', alpha=0.5)\n",
    "plt.savefig(\"problem-orf-viz.png\")\n",
    "plt.show()\n"
   ]
  },
  {
   "cell_type": "markdown",
   "metadata": {},
   "source": [
    "## Bonus problem: How big are viruses?\n",
    "\n",
    "How does SARS-CoV-2 compare to other viruses? Is it a small virus or a large virus? We can't really say without a reference. Thankfully, NCBI has us covered. NCBI Virus is a subset of NCBI dedicated only to viral sequences. To determine the size of SARS-CoV-2, we'll download a bunch of viral sequences and compare the lengths of their genomes. We could also compare other things, e.g., the number of genes, but, for the purposes of this homework, it's sufficient to compare the sequence lengths.\n",
    "\n",
    "**TASK**: Download all virus genome metadata from [NCBI Virus](https://www.ncbi.nlm.nih.gov/labs/virus/vssi/#/virus). There are between 10,000 to 15,000 of them (you don't need to download the full 10GB of sequence data for this exercise).\n",
    "\n",
    "Answer the following two questions:\n",
    "\n",
    "1. Which viruses are typically longer -- DNA or RNA viruses? Why?\n",
    "2. Is SARS-CoV-2 among the longer or shorter RNA viruses? Can you find any biological mechanisms to explain this?\n",
    "\n",
    "Try to find biological mechanisms to explain each answer.\n",
    "\n",
    "For each question, create an informative visualization showing the distribution of the relevant virus sequence lengths. Clearly indicate the length of the SARS-CoV-2 virus in each plot. Save your figures to `problem-virus-size-rna-dna.png` and `problem-virus-size-sars-cov-2.png`, respectively. Use these visualizations to inform your answers.\n",
    "Provide written answers and explanations in the `rna_dna_virus_longer` and `sars_cov_2_is_long` variables, respectively.\n",
    "\n",
    "**[4 points]**"
   ]
  },
  {
   "cell_type": "code",
   "execution_count": 3,
   "metadata": {},
   "outputs": [
    {
     "ename": "FileNotFoundError",
     "evalue": "[Errno 2] No such file or directory: 'data/virus_genome_metadata.csv'",
     "output_type": "error",
     "traceback": [
      "\u001b[1;31m---------------------------------------------------------------------------\u001b[0m",
      "\u001b[1;31mFileNotFoundError\u001b[0m                         Traceback (most recent call last)",
      "Cell \u001b[1;32mIn[3], line 6\u001b[0m\n\u001b[0;32m      3\u001b[0m \u001b[38;5;28;01mimport\u001b[39;00m \u001b[38;5;21;01mseaborn\u001b[39;00m \u001b[38;5;28;01mas\u001b[39;00m \u001b[38;5;21;01msns\u001b[39;00m\n\u001b[0;32m      5\u001b[0m \u001b[38;5;66;03m# Load virus genome metadata from CSV file (assuming it's pre-downloaded and cleaned)\u001b[39;00m\n\u001b[1;32m----> 6\u001b[0m virus_metadata \u001b[38;5;241m=\u001b[39m \u001b[43mpd\u001b[49m\u001b[38;5;241;43m.\u001b[39;49m\u001b[43mread_csv\u001b[49m\u001b[43m(\u001b[49m\u001b[38;5;124;43m\"\u001b[39;49m\u001b[38;5;124;43mdata/virus_genome_metadata.csv\u001b[39;49m\u001b[38;5;124;43m\"\u001b[39;49m\u001b[43m)\u001b[49m\n\u001b[0;32m      8\u001b[0m \u001b[38;5;66;03m# Split the data into DNA and RNA viruses\u001b[39;00m\n\u001b[0;32m      9\u001b[0m dna_viruses \u001b[38;5;241m=\u001b[39m virus_metadata[virus_metadata[\u001b[38;5;124m\"\u001b[39m\u001b[38;5;124mGenome_Type\u001b[39m\u001b[38;5;124m\"\u001b[39m] \u001b[38;5;241m==\u001b[39m \u001b[38;5;124m\"\u001b[39m\u001b[38;5;124mDNA\u001b[39m\u001b[38;5;124m\"\u001b[39m]\n",
      "File \u001b[1;32mc:\\Users\\lukap\\AppData\\Local\\Programs\\Python\\Python311\\Lib\\site-packages\\pandas\\util\\_decorators.py:211\u001b[0m, in \u001b[0;36mdeprecate_kwarg.<locals>._deprecate_kwarg.<locals>.wrapper\u001b[1;34m(*args, **kwargs)\u001b[0m\n\u001b[0;32m    209\u001b[0m     \u001b[38;5;28;01melse\u001b[39;00m:\n\u001b[0;32m    210\u001b[0m         kwargs[new_arg_name] \u001b[38;5;241m=\u001b[39m new_arg_value\n\u001b[1;32m--> 211\u001b[0m \u001b[38;5;28;01mreturn\u001b[39;00m \u001b[43mfunc\u001b[49m\u001b[43m(\u001b[49m\u001b[38;5;241;43m*\u001b[39;49m\u001b[43margs\u001b[49m\u001b[43m,\u001b[49m\u001b[43m \u001b[49m\u001b[38;5;241;43m*\u001b[39;49m\u001b[38;5;241;43m*\u001b[39;49m\u001b[43mkwargs\u001b[49m\u001b[43m)\u001b[49m\n",
      "File \u001b[1;32mc:\\Users\\lukap\\AppData\\Local\\Programs\\Python\\Python311\\Lib\\site-packages\\pandas\\util\\_decorators.py:331\u001b[0m, in \u001b[0;36mdeprecate_nonkeyword_arguments.<locals>.decorate.<locals>.wrapper\u001b[1;34m(*args, **kwargs)\u001b[0m\n\u001b[0;32m    325\u001b[0m \u001b[38;5;28;01mif\u001b[39;00m \u001b[38;5;28mlen\u001b[39m(args) \u001b[38;5;241m>\u001b[39m num_allow_args:\n\u001b[0;32m    326\u001b[0m     warnings\u001b[38;5;241m.\u001b[39mwarn(\n\u001b[0;32m    327\u001b[0m         msg\u001b[38;5;241m.\u001b[39mformat(arguments\u001b[38;5;241m=\u001b[39m_format_argument_list(allow_args)),\n\u001b[0;32m    328\u001b[0m         \u001b[38;5;167;01mFutureWarning\u001b[39;00m,\n\u001b[0;32m    329\u001b[0m         stacklevel\u001b[38;5;241m=\u001b[39mfind_stack_level(),\n\u001b[0;32m    330\u001b[0m     )\n\u001b[1;32m--> 331\u001b[0m \u001b[38;5;28;01mreturn\u001b[39;00m \u001b[43mfunc\u001b[49m\u001b[43m(\u001b[49m\u001b[38;5;241;43m*\u001b[39;49m\u001b[43margs\u001b[49m\u001b[43m,\u001b[49m\u001b[43m \u001b[49m\u001b[38;5;241;43m*\u001b[39;49m\u001b[38;5;241;43m*\u001b[39;49m\u001b[43mkwargs\u001b[49m\u001b[43m)\u001b[49m\n",
      "File \u001b[1;32mc:\\Users\\lukap\\AppData\\Local\\Programs\\Python\\Python311\\Lib\\site-packages\\pandas\\io\\parsers\\readers.py:950\u001b[0m, in \u001b[0;36mread_csv\u001b[1;34m(filepath_or_buffer, sep, delimiter, header, names, index_col, usecols, squeeze, prefix, mangle_dupe_cols, dtype, engine, converters, true_values, false_values, skipinitialspace, skiprows, skipfooter, nrows, na_values, keep_default_na, na_filter, verbose, skip_blank_lines, parse_dates, infer_datetime_format, keep_date_col, date_parser, dayfirst, cache_dates, iterator, chunksize, compression, thousands, decimal, lineterminator, quotechar, quoting, doublequote, escapechar, comment, encoding, encoding_errors, dialect, error_bad_lines, warn_bad_lines, on_bad_lines, delim_whitespace, low_memory, memory_map, float_precision, storage_options)\u001b[0m\n\u001b[0;32m    935\u001b[0m kwds_defaults \u001b[38;5;241m=\u001b[39m _refine_defaults_read(\n\u001b[0;32m    936\u001b[0m     dialect,\n\u001b[0;32m    937\u001b[0m     delimiter,\n\u001b[1;32m   (...)\u001b[0m\n\u001b[0;32m    946\u001b[0m     defaults\u001b[38;5;241m=\u001b[39m{\u001b[38;5;124m\"\u001b[39m\u001b[38;5;124mdelimiter\u001b[39m\u001b[38;5;124m\"\u001b[39m: \u001b[38;5;124m\"\u001b[39m\u001b[38;5;124m,\u001b[39m\u001b[38;5;124m\"\u001b[39m},\n\u001b[0;32m    947\u001b[0m )\n\u001b[0;32m    948\u001b[0m kwds\u001b[38;5;241m.\u001b[39mupdate(kwds_defaults)\n\u001b[1;32m--> 950\u001b[0m \u001b[38;5;28;01mreturn\u001b[39;00m \u001b[43m_read\u001b[49m\u001b[43m(\u001b[49m\u001b[43mfilepath_or_buffer\u001b[49m\u001b[43m,\u001b[49m\u001b[43m \u001b[49m\u001b[43mkwds\u001b[49m\u001b[43m)\u001b[49m\n",
      "File \u001b[1;32mc:\\Users\\lukap\\AppData\\Local\\Programs\\Python\\Python311\\Lib\\site-packages\\pandas\\io\\parsers\\readers.py:605\u001b[0m, in \u001b[0;36m_read\u001b[1;34m(filepath_or_buffer, kwds)\u001b[0m\n\u001b[0;32m    602\u001b[0m _validate_names(kwds\u001b[38;5;241m.\u001b[39mget(\u001b[38;5;124m\"\u001b[39m\u001b[38;5;124mnames\u001b[39m\u001b[38;5;124m\"\u001b[39m, \u001b[38;5;28;01mNone\u001b[39;00m))\n\u001b[0;32m    604\u001b[0m \u001b[38;5;66;03m# Create the parser.\u001b[39;00m\n\u001b[1;32m--> 605\u001b[0m parser \u001b[38;5;241m=\u001b[39m \u001b[43mTextFileReader\u001b[49m\u001b[43m(\u001b[49m\u001b[43mfilepath_or_buffer\u001b[49m\u001b[43m,\u001b[49m\u001b[43m \u001b[49m\u001b[38;5;241;43m*\u001b[39;49m\u001b[38;5;241;43m*\u001b[39;49m\u001b[43mkwds\u001b[49m\u001b[43m)\u001b[49m\n\u001b[0;32m    607\u001b[0m \u001b[38;5;28;01mif\u001b[39;00m chunksize \u001b[38;5;129;01mor\u001b[39;00m iterator:\n\u001b[0;32m    608\u001b[0m     \u001b[38;5;28;01mreturn\u001b[39;00m parser\n",
      "File \u001b[1;32mc:\\Users\\lukap\\AppData\\Local\\Programs\\Python\\Python311\\Lib\\site-packages\\pandas\\io\\parsers\\readers.py:1442\u001b[0m, in \u001b[0;36mTextFileReader.__init__\u001b[1;34m(self, f, engine, **kwds)\u001b[0m\n\u001b[0;32m   1439\u001b[0m     \u001b[38;5;28mself\u001b[39m\u001b[38;5;241m.\u001b[39moptions[\u001b[38;5;124m\"\u001b[39m\u001b[38;5;124mhas_index_names\u001b[39m\u001b[38;5;124m\"\u001b[39m] \u001b[38;5;241m=\u001b[39m kwds[\u001b[38;5;124m\"\u001b[39m\u001b[38;5;124mhas_index_names\u001b[39m\u001b[38;5;124m\"\u001b[39m]\n\u001b[0;32m   1441\u001b[0m \u001b[38;5;28mself\u001b[39m\u001b[38;5;241m.\u001b[39mhandles: IOHandles \u001b[38;5;241m|\u001b[39m \u001b[38;5;28;01mNone\u001b[39;00m \u001b[38;5;241m=\u001b[39m \u001b[38;5;28;01mNone\u001b[39;00m\n\u001b[1;32m-> 1442\u001b[0m \u001b[38;5;28mself\u001b[39m\u001b[38;5;241m.\u001b[39m_engine \u001b[38;5;241m=\u001b[39m \u001b[38;5;28;43mself\u001b[39;49m\u001b[38;5;241;43m.\u001b[39;49m\u001b[43m_make_engine\u001b[49m\u001b[43m(\u001b[49m\u001b[43mf\u001b[49m\u001b[43m,\u001b[49m\u001b[43m \u001b[49m\u001b[38;5;28;43mself\u001b[39;49m\u001b[38;5;241;43m.\u001b[39;49m\u001b[43mengine\u001b[49m\u001b[43m)\u001b[49m\n",
      "File \u001b[1;32mc:\\Users\\lukap\\AppData\\Local\\Programs\\Python\\Python311\\Lib\\site-packages\\pandas\\io\\parsers\\readers.py:1735\u001b[0m, in \u001b[0;36mTextFileReader._make_engine\u001b[1;34m(self, f, engine)\u001b[0m\n\u001b[0;32m   1733\u001b[0m     \u001b[38;5;28;01mif\u001b[39;00m \u001b[38;5;124m\"\u001b[39m\u001b[38;5;124mb\u001b[39m\u001b[38;5;124m\"\u001b[39m \u001b[38;5;129;01mnot\u001b[39;00m \u001b[38;5;129;01min\u001b[39;00m mode:\n\u001b[0;32m   1734\u001b[0m         mode \u001b[38;5;241m+\u001b[39m\u001b[38;5;241m=\u001b[39m \u001b[38;5;124m\"\u001b[39m\u001b[38;5;124mb\u001b[39m\u001b[38;5;124m\"\u001b[39m\n\u001b[1;32m-> 1735\u001b[0m \u001b[38;5;28mself\u001b[39m\u001b[38;5;241m.\u001b[39mhandles \u001b[38;5;241m=\u001b[39m \u001b[43mget_handle\u001b[49m\u001b[43m(\u001b[49m\n\u001b[0;32m   1736\u001b[0m \u001b[43m    \u001b[49m\u001b[43mf\u001b[49m\u001b[43m,\u001b[49m\n\u001b[0;32m   1737\u001b[0m \u001b[43m    \u001b[49m\u001b[43mmode\u001b[49m\u001b[43m,\u001b[49m\n\u001b[0;32m   1738\u001b[0m \u001b[43m    \u001b[49m\u001b[43mencoding\u001b[49m\u001b[38;5;241;43m=\u001b[39;49m\u001b[38;5;28;43mself\u001b[39;49m\u001b[38;5;241;43m.\u001b[39;49m\u001b[43moptions\u001b[49m\u001b[38;5;241;43m.\u001b[39;49m\u001b[43mget\u001b[49m\u001b[43m(\u001b[49m\u001b[38;5;124;43m\"\u001b[39;49m\u001b[38;5;124;43mencoding\u001b[39;49m\u001b[38;5;124;43m\"\u001b[39;49m\u001b[43m,\u001b[49m\u001b[43m \u001b[49m\u001b[38;5;28;43;01mNone\u001b[39;49;00m\u001b[43m)\u001b[49m\u001b[43m,\u001b[49m\n\u001b[0;32m   1739\u001b[0m \u001b[43m    \u001b[49m\u001b[43mcompression\u001b[49m\u001b[38;5;241;43m=\u001b[39;49m\u001b[38;5;28;43mself\u001b[39;49m\u001b[38;5;241;43m.\u001b[39;49m\u001b[43moptions\u001b[49m\u001b[38;5;241;43m.\u001b[39;49m\u001b[43mget\u001b[49m\u001b[43m(\u001b[49m\u001b[38;5;124;43m\"\u001b[39;49m\u001b[38;5;124;43mcompression\u001b[39;49m\u001b[38;5;124;43m\"\u001b[39;49m\u001b[43m,\u001b[49m\u001b[43m \u001b[49m\u001b[38;5;28;43;01mNone\u001b[39;49;00m\u001b[43m)\u001b[49m\u001b[43m,\u001b[49m\n\u001b[0;32m   1740\u001b[0m \u001b[43m    \u001b[49m\u001b[43mmemory_map\u001b[49m\u001b[38;5;241;43m=\u001b[39;49m\u001b[38;5;28;43mself\u001b[39;49m\u001b[38;5;241;43m.\u001b[39;49m\u001b[43moptions\u001b[49m\u001b[38;5;241;43m.\u001b[39;49m\u001b[43mget\u001b[49m\u001b[43m(\u001b[49m\u001b[38;5;124;43m\"\u001b[39;49m\u001b[38;5;124;43mmemory_map\u001b[39;49m\u001b[38;5;124;43m\"\u001b[39;49m\u001b[43m,\u001b[49m\u001b[43m \u001b[49m\u001b[38;5;28;43;01mFalse\u001b[39;49;00m\u001b[43m)\u001b[49m\u001b[43m,\u001b[49m\n\u001b[0;32m   1741\u001b[0m \u001b[43m    \u001b[49m\u001b[43mis_text\u001b[49m\u001b[38;5;241;43m=\u001b[39;49m\u001b[43mis_text\u001b[49m\u001b[43m,\u001b[49m\n\u001b[0;32m   1742\u001b[0m \u001b[43m    \u001b[49m\u001b[43merrors\u001b[49m\u001b[38;5;241;43m=\u001b[39;49m\u001b[38;5;28;43mself\u001b[39;49m\u001b[38;5;241;43m.\u001b[39;49m\u001b[43moptions\u001b[49m\u001b[38;5;241;43m.\u001b[39;49m\u001b[43mget\u001b[49m\u001b[43m(\u001b[49m\u001b[38;5;124;43m\"\u001b[39;49m\u001b[38;5;124;43mencoding_errors\u001b[39;49m\u001b[38;5;124;43m\"\u001b[39;49m\u001b[43m,\u001b[49m\u001b[43m \u001b[49m\u001b[38;5;124;43m\"\u001b[39;49m\u001b[38;5;124;43mstrict\u001b[39;49m\u001b[38;5;124;43m\"\u001b[39;49m\u001b[43m)\u001b[49m\u001b[43m,\u001b[49m\n\u001b[0;32m   1743\u001b[0m \u001b[43m    \u001b[49m\u001b[43mstorage_options\u001b[49m\u001b[38;5;241;43m=\u001b[39;49m\u001b[38;5;28;43mself\u001b[39;49m\u001b[38;5;241;43m.\u001b[39;49m\u001b[43moptions\u001b[49m\u001b[38;5;241;43m.\u001b[39;49m\u001b[43mget\u001b[49m\u001b[43m(\u001b[49m\u001b[38;5;124;43m\"\u001b[39;49m\u001b[38;5;124;43mstorage_options\u001b[39;49m\u001b[38;5;124;43m\"\u001b[39;49m\u001b[43m,\u001b[49m\u001b[43m \u001b[49m\u001b[38;5;28;43;01mNone\u001b[39;49;00m\u001b[43m)\u001b[49m\u001b[43m,\u001b[49m\n\u001b[0;32m   1744\u001b[0m \u001b[43m\u001b[49m\u001b[43m)\u001b[49m\n\u001b[0;32m   1745\u001b[0m \u001b[38;5;28;01massert\u001b[39;00m \u001b[38;5;28mself\u001b[39m\u001b[38;5;241m.\u001b[39mhandles \u001b[38;5;129;01mis\u001b[39;00m \u001b[38;5;129;01mnot\u001b[39;00m \u001b[38;5;28;01mNone\u001b[39;00m\n\u001b[0;32m   1746\u001b[0m f \u001b[38;5;241m=\u001b[39m \u001b[38;5;28mself\u001b[39m\u001b[38;5;241m.\u001b[39mhandles\u001b[38;5;241m.\u001b[39mhandle\n",
      "File \u001b[1;32mc:\\Users\\lukap\\AppData\\Local\\Programs\\Python\\Python311\\Lib\\site-packages\\pandas\\io\\common.py:856\u001b[0m, in \u001b[0;36mget_handle\u001b[1;34m(path_or_buf, mode, encoding, compression, memory_map, is_text, errors, storage_options)\u001b[0m\n\u001b[0;32m    851\u001b[0m \u001b[38;5;28;01melif\u001b[39;00m \u001b[38;5;28misinstance\u001b[39m(handle, \u001b[38;5;28mstr\u001b[39m):\n\u001b[0;32m    852\u001b[0m     \u001b[38;5;66;03m# Check whether the filename is to be opened in binary mode.\u001b[39;00m\n\u001b[0;32m    853\u001b[0m     \u001b[38;5;66;03m# Binary mode does not support 'encoding' and 'newline'.\u001b[39;00m\n\u001b[0;32m    854\u001b[0m     \u001b[38;5;28;01mif\u001b[39;00m ioargs\u001b[38;5;241m.\u001b[39mencoding \u001b[38;5;129;01mand\u001b[39;00m \u001b[38;5;124m\"\u001b[39m\u001b[38;5;124mb\u001b[39m\u001b[38;5;124m\"\u001b[39m \u001b[38;5;129;01mnot\u001b[39;00m \u001b[38;5;129;01min\u001b[39;00m ioargs\u001b[38;5;241m.\u001b[39mmode:\n\u001b[0;32m    855\u001b[0m         \u001b[38;5;66;03m# Encoding\u001b[39;00m\n\u001b[1;32m--> 856\u001b[0m         handle \u001b[38;5;241m=\u001b[39m \u001b[38;5;28;43mopen\u001b[39;49m\u001b[43m(\u001b[49m\n\u001b[0;32m    857\u001b[0m \u001b[43m            \u001b[49m\u001b[43mhandle\u001b[49m\u001b[43m,\u001b[49m\n\u001b[0;32m    858\u001b[0m \u001b[43m            \u001b[49m\u001b[43mioargs\u001b[49m\u001b[38;5;241;43m.\u001b[39;49m\u001b[43mmode\u001b[49m\u001b[43m,\u001b[49m\n\u001b[0;32m    859\u001b[0m \u001b[43m            \u001b[49m\u001b[43mencoding\u001b[49m\u001b[38;5;241;43m=\u001b[39;49m\u001b[43mioargs\u001b[49m\u001b[38;5;241;43m.\u001b[39;49m\u001b[43mencoding\u001b[49m\u001b[43m,\u001b[49m\n\u001b[0;32m    860\u001b[0m \u001b[43m            \u001b[49m\u001b[43merrors\u001b[49m\u001b[38;5;241;43m=\u001b[39;49m\u001b[43merrors\u001b[49m\u001b[43m,\u001b[49m\n\u001b[0;32m    861\u001b[0m \u001b[43m            \u001b[49m\u001b[43mnewline\u001b[49m\u001b[38;5;241;43m=\u001b[39;49m\u001b[38;5;124;43m\"\u001b[39;49m\u001b[38;5;124;43m\"\u001b[39;49m\u001b[43m,\u001b[49m\n\u001b[0;32m    862\u001b[0m \u001b[43m        \u001b[49m\u001b[43m)\u001b[49m\n\u001b[0;32m    863\u001b[0m     \u001b[38;5;28;01melse\u001b[39;00m:\n\u001b[0;32m    864\u001b[0m         \u001b[38;5;66;03m# Binary mode\u001b[39;00m\n\u001b[0;32m    865\u001b[0m         handle \u001b[38;5;241m=\u001b[39m \u001b[38;5;28mopen\u001b[39m(handle, ioargs\u001b[38;5;241m.\u001b[39mmode)\n",
      "\u001b[1;31mFileNotFoundError\u001b[0m: [Errno 2] No such file or directory: 'data/virus_genome_metadata.csv'"
     ]
    }
   ],
   "source": [
    "import pandas as pd\n",
    "import matplotlib.pyplot as plt\n",
    "import seaborn as sns\n",
    "\n",
    "# Load virus genome metadata from CSV file (assuming it's pre-downloaded and cleaned)\n",
    "virus_metadata = pd.read_csv(\"data/virus_genome_metadata.csv\")\n",
    "\n",
    "# Split the data into DNA and RNA viruses\n",
    "dna_viruses = virus_metadata[virus_metadata[\"Genome_Type\"] == \"DNA\"]\n",
    "rna_viruses = virus_metadata[virus_metadata[\"Genome_Type\"] == \"RNA\"]\n",
    "\n",
    "# Define SARS-CoV-2 genome length (approx. 29,903 bases)\n",
    "sars_cov_2_length = 29903\n",
    "\n",
    "# Visualization 1: DNA vs. RNA Virus Genome Lengths\n",
    "plt.figure(figsize=(12, 6))\n",
    "sns.histplot(dna_viruses[\"Genome_Length\"], bins=50, color='blue', label='DNA Viruses', kde=True)\n",
    "sns.histplot(rna_viruses[\"Genome_Length\"], bins=50, color='orange', label='RNA Viruses', kde=True)\n",
    "plt.axvline(sars_cov_2_length, color='red', linestyle=\"--\", linewidth=2, label=\"SARS-CoV-2 Length\")\n",
    "plt.title(\"Distribution of Genome Lengths: DNA vs. RNA Viruses\")\n",
    "plt.xlabel(\"Genome Length (bp)\")\n",
    "plt.ylabel(\"Frequency\")\n",
    "plt.legend()\n",
    "plt.yscale('log')  # Log scale for better visualization of distribution\n",
    "plt.savefig(\"problem-virus-size-rna-dna.png\")\n",
    "plt.show()\n",
    "\n",
    "# Answer 1: DNA vs. RNA Virus Size Analysis\n",
    "rna_dna_virus_longer = \"\"\"\n",
    "DNA viruses typically have longer genomes than RNA viruses. This difference is primarily due to the relative \n",
    "stability and lower mutation rates of DNA compared to RNA. DNA is chemically more stable and can support longer, \n",
    "more complex genomes, often encoding additional regulatory and accessory genes. In contrast, RNA viruses tend to \n",
    "have shorter genomes, which may help them replicate more quickly and adapt rapidly through mutations. \n",
    "\"\"\""
   ]
  },
  {
   "cell_type": "code",
   "execution_count": null,
   "metadata": {},
   "outputs": [],
   "source": [
    "# Visualization 2: SARS-CoV-2 Among RNA Viruses\n",
    "plt.figure(figsize=(10, 5))\n",
    "sns.histplot(rna_viruses[\"Genome_Length\"], bins=50, color='orange', kde=True)\n",
    "plt.axvline(sars_cov_2_length, color='red', linestyle=\"--\", linewidth=2, label=\"SARS-CoV-2 Length\")\n",
    "plt.title(\"Distribution of Genome Lengths: RNA Viruses\")\n",
    "plt.xlabel(\"Genome Length (bp)\")\n",
    "plt.ylabel(\"Frequency\")\n",
    "plt.legend()\n",
    "plt.yscale('log')\n",
    "plt.savefig(\"problem-virus-size-sars-cov-2.png\")\n",
    "plt.show()\n",
    "\n",
    "# Answer 2: SARS-CoV-2 Size Context\n",
    "sars_cov_2_is_long = \"\"\"\n",
    "SARS-CoV-2 is among the longer RNA viruses, with a genome of nearly 30,000 bases. This relatively large genome \n",
    "for an RNA virus is associated with unique biological mechanisms, such as a viral RNA polymerase with \n",
    "proofreading capability. This helps to reduce mutation rates, allowing SARS-CoV-2 to maintain a longer genome \n",
    "without accumulating debilitating mutations. This genome size enables SARS-CoV-2 to encode a larger set of \n",
    "proteins, potentially contributing to its complex interactions with the host immune system.\n",
    "\"\"\""
   ]
  }
 ],
 "metadata": {
  "kernelspec": {
   "display_name": "Python 3",
   "language": "python",
   "name": "python3"
  },
  "language_info": {
   "codemirror_mode": {
    "name": "ipython",
    "version": 3
   },
   "file_extension": ".py",
   "mimetype": "text/x-python",
   "name": "python",
   "nbconvert_exporter": "python",
   "pygments_lexer": "ipython3",
   "version": "3.11.2"
  }
 },
 "nbformat": 4,
 "nbformat_minor": 4
}
